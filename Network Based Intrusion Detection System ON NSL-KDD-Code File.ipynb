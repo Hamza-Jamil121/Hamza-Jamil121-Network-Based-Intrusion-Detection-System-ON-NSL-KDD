{
 "cells": [
  {
   "cell_type": "markdown",
   "id": "f600cf2c",
   "metadata": {},
   "source": [
    "# Data Analysis and Preprocessing"
   ]
  },
  {
   "cell_type": "code",
   "execution_count": 155,
   "id": "c2f8e5f7",
   "metadata": {},
   "outputs": [],
   "source": [
    "import pandas as pd\n",
    "from sklearn.model_selection import train_test_split, RandomizedSearchCV\n",
    "from pandasql import sqldf\n",
    "\n"
   ]
  },
  {
   "cell_type": "code",
   "execution_count": 158,
   "id": "9dd7fe00",
   "metadata": {},
   "outputs": [
    {
     "data": {
      "text/html": [
       "<div>\n",
       "<style scoped>\n",
       "    .dataframe tbody tr th:only-of-type {\n",
       "        vertical-align: middle;\n",
       "    }\n",
       "\n",
       "    .dataframe tbody tr th {\n",
       "        vertical-align: top;\n",
       "    }\n",
       "\n",
       "    .dataframe thead th {\n",
       "        text-align: right;\n",
       "    }\n",
       "</style>\n",
       "<table border=\"1\" class=\"dataframe\">\n",
       "  <thead>\n",
       "    <tr style=\"text-align: right;\">\n",
       "      <th></th>\n",
       "      <th>0</th>\n",
       "      <th>tcp</th>\n",
       "      <th>ftp_data</th>\n",
       "      <th>SF</th>\n",
       "      <th>491</th>\n",
       "      <th>0.1</th>\n",
       "      <th>0.2</th>\n",
       "      <th>0.3</th>\n",
       "      <th>0.4</th>\n",
       "      <th>0.5</th>\n",
       "      <th>...</th>\n",
       "      <th>0.17.1</th>\n",
       "      <th>0.03</th>\n",
       "      <th>0.17.2</th>\n",
       "      <th>0.00.6</th>\n",
       "      <th>0.00.7</th>\n",
       "      <th>0.00.8</th>\n",
       "      <th>0.05</th>\n",
       "      <th>0.00.9</th>\n",
       "      <th>normal</th>\n",
       "      <th>20</th>\n",
       "    </tr>\n",
       "  </thead>\n",
       "  <tbody>\n",
       "    <tr>\n",
       "      <th>0</th>\n",
       "      <td>0</td>\n",
       "      <td>udp</td>\n",
       "      <td>other</td>\n",
       "      <td>SF</td>\n",
       "      <td>146</td>\n",
       "      <td>0</td>\n",
       "      <td>0</td>\n",
       "      <td>0</td>\n",
       "      <td>0</td>\n",
       "      <td>0</td>\n",
       "      <td>...</td>\n",
       "      <td>0.00</td>\n",
       "      <td>0.60</td>\n",
       "      <td>0.88</td>\n",
       "      <td>0.00</td>\n",
       "      <td>0.00</td>\n",
       "      <td>0.00</td>\n",
       "      <td>0.0</td>\n",
       "      <td>0.00</td>\n",
       "      <td>normal</td>\n",
       "      <td>15</td>\n",
       "    </tr>\n",
       "    <tr>\n",
       "      <th>1</th>\n",
       "      <td>0</td>\n",
       "      <td>tcp</td>\n",
       "      <td>private</td>\n",
       "      <td>S0</td>\n",
       "      <td>0</td>\n",
       "      <td>0</td>\n",
       "      <td>0</td>\n",
       "      <td>0</td>\n",
       "      <td>0</td>\n",
       "      <td>0</td>\n",
       "      <td>...</td>\n",
       "      <td>0.10</td>\n",
       "      <td>0.05</td>\n",
       "      <td>0.00</td>\n",
       "      <td>0.00</td>\n",
       "      <td>1.00</td>\n",
       "      <td>1.00</td>\n",
       "      <td>0.0</td>\n",
       "      <td>0.00</td>\n",
       "      <td>neptune</td>\n",
       "      <td>19</td>\n",
       "    </tr>\n",
       "    <tr>\n",
       "      <th>2</th>\n",
       "      <td>0</td>\n",
       "      <td>tcp</td>\n",
       "      <td>http</td>\n",
       "      <td>SF</td>\n",
       "      <td>232</td>\n",
       "      <td>8153</td>\n",
       "      <td>0</td>\n",
       "      <td>0</td>\n",
       "      <td>0</td>\n",
       "      <td>0</td>\n",
       "      <td>...</td>\n",
       "      <td>1.00</td>\n",
       "      <td>0.00</td>\n",
       "      <td>0.03</td>\n",
       "      <td>0.04</td>\n",
       "      <td>0.03</td>\n",
       "      <td>0.01</td>\n",
       "      <td>0.0</td>\n",
       "      <td>0.01</td>\n",
       "      <td>normal</td>\n",
       "      <td>21</td>\n",
       "    </tr>\n",
       "    <tr>\n",
       "      <th>3</th>\n",
       "      <td>0</td>\n",
       "      <td>tcp</td>\n",
       "      <td>http</td>\n",
       "      <td>SF</td>\n",
       "      <td>199</td>\n",
       "      <td>420</td>\n",
       "      <td>0</td>\n",
       "      <td>0</td>\n",
       "      <td>0</td>\n",
       "      <td>0</td>\n",
       "      <td>...</td>\n",
       "      <td>1.00</td>\n",
       "      <td>0.00</td>\n",
       "      <td>0.00</td>\n",
       "      <td>0.00</td>\n",
       "      <td>0.00</td>\n",
       "      <td>0.00</td>\n",
       "      <td>0.0</td>\n",
       "      <td>0.00</td>\n",
       "      <td>normal</td>\n",
       "      <td>21</td>\n",
       "    </tr>\n",
       "    <tr>\n",
       "      <th>4</th>\n",
       "      <td>0</td>\n",
       "      <td>tcp</td>\n",
       "      <td>private</td>\n",
       "      <td>REJ</td>\n",
       "      <td>0</td>\n",
       "      <td>0</td>\n",
       "      <td>0</td>\n",
       "      <td>0</td>\n",
       "      <td>0</td>\n",
       "      <td>0</td>\n",
       "      <td>...</td>\n",
       "      <td>0.07</td>\n",
       "      <td>0.07</td>\n",
       "      <td>0.00</td>\n",
       "      <td>0.00</td>\n",
       "      <td>0.00</td>\n",
       "      <td>0.00</td>\n",
       "      <td>1.0</td>\n",
       "      <td>1.00</td>\n",
       "      <td>neptune</td>\n",
       "      <td>21</td>\n",
       "    </tr>\n",
       "  </tbody>\n",
       "</table>\n",
       "<p>5 rows × 43 columns</p>\n",
       "</div>"
      ],
      "text/plain": [
       "   0  tcp ftp_data   SF  491   0.1  0.2  0.3  0.4  0.5  ...  0.17.1  0.03  \\\n",
       "0  0  udp    other   SF  146     0    0    0    0    0  ...    0.00  0.60   \n",
       "1  0  tcp  private   S0    0     0    0    0    0    0  ...    0.10  0.05   \n",
       "2  0  tcp     http   SF  232  8153    0    0    0    0  ...    1.00  0.00   \n",
       "3  0  tcp     http   SF  199   420    0    0    0    0  ...    1.00  0.00   \n",
       "4  0  tcp  private  REJ    0     0    0    0    0    0  ...    0.07  0.07   \n",
       "\n",
       "   0.17.2  0.00.6  0.00.7  0.00.8  0.05  0.00.9   normal  20  \n",
       "0    0.88    0.00    0.00    0.00   0.0    0.00   normal  15  \n",
       "1    0.00    0.00    1.00    1.00   0.0    0.00  neptune  19  \n",
       "2    0.03    0.04    0.03    0.01   0.0    0.01   normal  21  \n",
       "3    0.00    0.00    0.00    0.00   0.0    0.00   normal  21  \n",
       "4    0.00    0.00    0.00    0.00   1.0    1.00  neptune  21  \n",
       "\n",
       "[5 rows x 43 columns]"
      ]
     },
     "execution_count": 158,
     "metadata": {},
     "output_type": "execute_result"
    }
   ],
   "source": [
    "train_data = pd.read_csv(r\"Information security project\\KDD Train Dataset\\KDDTrain.txt\" , \n",
    "                         sep = \",\" , encoding = 'utf-8')\n",
    "train_data.head()"
   ]
  },
  {
   "cell_type": "code",
   "execution_count": 160,
   "id": "04ec7332",
   "metadata": {},
   "outputs": [
    {
     "data": {
      "text/plain": [
       "(125972, 43)"
      ]
     },
     "execution_count": 160,
     "metadata": {},
     "output_type": "execute_result"
    }
   ],
   "source": [
    "train_data.shape"
   ]
  },
  {
   "cell_type": "code",
   "execution_count": 159,
   "id": "40ad6142",
   "metadata": {},
   "outputs": [
    {
     "data": {
      "text/html": [
       "<div>\n",
       "<style scoped>\n",
       "    .dataframe tbody tr th:only-of-type {\n",
       "        vertical-align: middle;\n",
       "    }\n",
       "\n",
       "    .dataframe tbody tr th {\n",
       "        vertical-align: top;\n",
       "    }\n",
       "\n",
       "    .dataframe thead th {\n",
       "        text-align: right;\n",
       "    }\n",
       "</style>\n",
       "<table border=\"1\" class=\"dataframe\">\n",
       "  <thead>\n",
       "    <tr style=\"text-align: right;\">\n",
       "      <th></th>\n",
       "      <th>0</th>\n",
       "      <th>tcp</th>\n",
       "      <th>private</th>\n",
       "      <th>REJ</th>\n",
       "      <th>0.1</th>\n",
       "      <th>0.2</th>\n",
       "      <th>0.3</th>\n",
       "      <th>0.4</th>\n",
       "      <th>0.5</th>\n",
       "      <th>0.6</th>\n",
       "      <th>...</th>\n",
       "      <th>0.04.1</th>\n",
       "      <th>0.06.1</th>\n",
       "      <th>0.00.3</th>\n",
       "      <th>0.00.4</th>\n",
       "      <th>0.00.5</th>\n",
       "      <th>0.00.6</th>\n",
       "      <th>1.00.2</th>\n",
       "      <th>1.00.3</th>\n",
       "      <th>neptune</th>\n",
       "      <th>21</th>\n",
       "    </tr>\n",
       "  </thead>\n",
       "  <tbody>\n",
       "    <tr>\n",
       "      <th>0</th>\n",
       "      <td>0</td>\n",
       "      <td>tcp</td>\n",
       "      <td>private</td>\n",
       "      <td>REJ</td>\n",
       "      <td>0</td>\n",
       "      <td>0</td>\n",
       "      <td>0</td>\n",
       "      <td>0</td>\n",
       "      <td>0</td>\n",
       "      <td>0</td>\n",
       "      <td>...</td>\n",
       "      <td>0.00</td>\n",
       "      <td>0.06</td>\n",
       "      <td>0.00</td>\n",
       "      <td>0.00</td>\n",
       "      <td>0.00</td>\n",
       "      <td>0.0</td>\n",
       "      <td>1.00</td>\n",
       "      <td>1.00</td>\n",
       "      <td>neptune</td>\n",
       "      <td>21</td>\n",
       "    </tr>\n",
       "    <tr>\n",
       "      <th>1</th>\n",
       "      <td>2</td>\n",
       "      <td>tcp</td>\n",
       "      <td>ftp_data</td>\n",
       "      <td>SF</td>\n",
       "      <td>12983</td>\n",
       "      <td>0</td>\n",
       "      <td>0</td>\n",
       "      <td>0</td>\n",
       "      <td>0</td>\n",
       "      <td>0</td>\n",
       "      <td>...</td>\n",
       "      <td>0.61</td>\n",
       "      <td>0.04</td>\n",
       "      <td>0.61</td>\n",
       "      <td>0.02</td>\n",
       "      <td>0.00</td>\n",
       "      <td>0.0</td>\n",
       "      <td>0.00</td>\n",
       "      <td>0.00</td>\n",
       "      <td>normal</td>\n",
       "      <td>21</td>\n",
       "    </tr>\n",
       "    <tr>\n",
       "      <th>2</th>\n",
       "      <td>0</td>\n",
       "      <td>icmp</td>\n",
       "      <td>eco_i</td>\n",
       "      <td>SF</td>\n",
       "      <td>20</td>\n",
       "      <td>0</td>\n",
       "      <td>0</td>\n",
       "      <td>0</td>\n",
       "      <td>0</td>\n",
       "      <td>0</td>\n",
       "      <td>...</td>\n",
       "      <td>1.00</td>\n",
       "      <td>0.00</td>\n",
       "      <td>1.00</td>\n",
       "      <td>0.28</td>\n",
       "      <td>0.00</td>\n",
       "      <td>0.0</td>\n",
       "      <td>0.00</td>\n",
       "      <td>0.00</td>\n",
       "      <td>saint</td>\n",
       "      <td>15</td>\n",
       "    </tr>\n",
       "    <tr>\n",
       "      <th>3</th>\n",
       "      <td>1</td>\n",
       "      <td>tcp</td>\n",
       "      <td>telnet</td>\n",
       "      <td>RSTO</td>\n",
       "      <td>0</td>\n",
       "      <td>15</td>\n",
       "      <td>0</td>\n",
       "      <td>0</td>\n",
       "      <td>0</td>\n",
       "      <td>0</td>\n",
       "      <td>...</td>\n",
       "      <td>0.31</td>\n",
       "      <td>0.17</td>\n",
       "      <td>0.03</td>\n",
       "      <td>0.02</td>\n",
       "      <td>0.00</td>\n",
       "      <td>0.0</td>\n",
       "      <td>0.83</td>\n",
       "      <td>0.71</td>\n",
       "      <td>mscan</td>\n",
       "      <td>11</td>\n",
       "    </tr>\n",
       "    <tr>\n",
       "      <th>4</th>\n",
       "      <td>0</td>\n",
       "      <td>tcp</td>\n",
       "      <td>http</td>\n",
       "      <td>SF</td>\n",
       "      <td>267</td>\n",
       "      <td>14515</td>\n",
       "      <td>0</td>\n",
       "      <td>0</td>\n",
       "      <td>0</td>\n",
       "      <td>0</td>\n",
       "      <td>...</td>\n",
       "      <td>1.00</td>\n",
       "      <td>0.00</td>\n",
       "      <td>0.01</td>\n",
       "      <td>0.03</td>\n",
       "      <td>0.01</td>\n",
       "      <td>0.0</td>\n",
       "      <td>0.00</td>\n",
       "      <td>0.00</td>\n",
       "      <td>normal</td>\n",
       "      <td>21</td>\n",
       "    </tr>\n",
       "  </tbody>\n",
       "</table>\n",
       "<p>5 rows × 43 columns</p>\n",
       "</div>"
      ],
      "text/plain": [
       "   0   tcp   private   REJ    0.1    0.2  0.3  0.4  0.5  0.6  ...  0.04.1  \\\n",
       "0  0   tcp   private   REJ      0      0    0    0    0    0  ...    0.00   \n",
       "1  2   tcp  ftp_data    SF  12983      0    0    0    0    0  ...    0.61   \n",
       "2  0  icmp     eco_i    SF     20      0    0    0    0    0  ...    1.00   \n",
       "3  1   tcp    telnet  RSTO      0     15    0    0    0    0  ...    0.31   \n",
       "4  0   tcp      http    SF    267  14515    0    0    0    0  ...    1.00   \n",
       "\n",
       "   0.06.1  0.00.3  0.00.4  0.00.5  0.00.6  1.00.2  1.00.3  neptune  21  \n",
       "0    0.06    0.00    0.00    0.00     0.0    1.00    1.00  neptune  21  \n",
       "1    0.04    0.61    0.02    0.00     0.0    0.00    0.00   normal  21  \n",
       "2    0.00    1.00    0.28    0.00     0.0    0.00    0.00    saint  15  \n",
       "3    0.17    0.03    0.02    0.00     0.0    0.83    0.71    mscan  11  \n",
       "4    0.00    0.01    0.03    0.01     0.0    0.00    0.00   normal  21  \n",
       "\n",
       "[5 rows x 43 columns]"
      ]
     },
     "execution_count": 159,
     "metadata": {},
     "output_type": "execute_result"
    }
   ],
   "source": [
    "test_data = pd.read_csv(r\"Information security project\\KDD Test Dataset\\KDDTest.txt\" , \n",
    "                         sep = \",\" , encoding = 'utf-8')\n",
    "test_data.head()"
   ]
  },
  {
   "cell_type": "code",
   "execution_count": 161,
   "id": "398e78d2",
   "metadata": {},
   "outputs": [
    {
     "data": {
      "text/plain": [
       "(22543, 43)"
      ]
     },
     "execution_count": 161,
     "metadata": {},
     "output_type": "execute_result"
    }
   ],
   "source": [
    "test_data.shape"
   ]
  },
  {
   "cell_type": "code",
   "execution_count": 163,
   "id": "d5dba507",
   "metadata": {},
   "outputs": [],
   "source": [
    "columns_name = (['duration','protocol_type','service','flag','src_bytes','dst_bytes','land','wrong_fragment','urgent','hot',\n",
    "            'num_failed_logins','logged_in','num_compromised','root_shell','su_attempted','num_root','num_file_creations',\n",
    "            'num_shells','num_access_files','num_outbound_cmds','is_host_login','is_guest_login','count','srv_count',\n",
    "            'serror_rate','srv_serror_rate','rerror_rate','srv_rerror_rate','same_srv_rate','diff_srv_rate','srv_diff_host_rate',\n",
    "            'dst_host_count','dst_host_srv_count','dst_host_same_srv_rate','dst_host_diff_srv_rate','dst_host_same_src_port_rate',\n",
    "            'dst_host_srv_diff_host_rate','dst_host_serror_rate','dst_host_srv_serror_rate','dst_host_rerror_rate',\n",
    "            'dst_host_srv_rerror_rate','attack','level'])"
   ]
  },
  {
   "cell_type": "code",
   "execution_count": 164,
   "id": "bf8f6d5e",
   "metadata": {},
   "outputs": [],
   "source": [
    "train_data.columns = columns_name\n",
    "test_data.columns = columns_name"
   ]
  },
  {
   "cell_type": "code",
   "execution_count": 165,
   "id": "12b65d74",
   "metadata": {},
   "outputs": [
    {
     "data": {
      "text/plain": [
       "Index(['duration', 'protocol_type', 'service', 'flag', 'src_bytes',\n",
       "       'dst_bytes', 'land', 'wrong_fragment', 'urgent', 'hot',\n",
       "       'num_failed_logins', 'logged_in', 'num_compromised', 'root_shell',\n",
       "       'su_attempted', 'num_root', 'num_file_creations', 'num_shells',\n",
       "       'num_access_files', 'num_outbound_cmds', 'is_host_login',\n",
       "       'is_guest_login', 'count', 'srv_count', 'serror_rate',\n",
       "       'srv_serror_rate', 'rerror_rate', 'srv_rerror_rate', 'same_srv_rate',\n",
       "       'diff_srv_rate', 'srv_diff_host_rate', 'dst_host_count',\n",
       "       'dst_host_srv_count', 'dst_host_same_srv_rate',\n",
       "       'dst_host_diff_srv_rate', 'dst_host_same_src_port_rate',\n",
       "       'dst_host_srv_diff_host_rate', 'dst_host_serror_rate',\n",
       "       'dst_host_srv_serror_rate', 'dst_host_rerror_rate',\n",
       "       'dst_host_srv_rerror_rate', 'attack', 'level'],\n",
       "      dtype='object')"
      ]
     },
     "execution_count": 165,
     "metadata": {},
     "output_type": "execute_result"
    }
   ],
   "source": [
    "train_data.columns"
   ]
  },
  {
   "cell_type": "code",
   "execution_count": 166,
   "id": "932fa3aa",
   "metadata": {},
   "outputs": [
    {
     "data": {
      "text/plain": [
       "duration                       0\n",
       "protocol_type                  0\n",
       "service                        0\n",
       "flag                           0\n",
       "src_bytes                      0\n",
       "dst_bytes                      0\n",
       "land                           0\n",
       "wrong_fragment                 0\n",
       "urgent                         0\n",
       "hot                            0\n",
       "num_failed_logins              0\n",
       "logged_in                      0\n",
       "num_compromised                0\n",
       "root_shell                     0\n",
       "su_attempted                   0\n",
       "num_root                       0\n",
       "num_file_creations             0\n",
       "num_shells                     0\n",
       "num_access_files               0\n",
       "num_outbound_cmds              0\n",
       "is_host_login                  0\n",
       "is_guest_login                 0\n",
       "count                          0\n",
       "srv_count                      0\n",
       "serror_rate                    0\n",
       "srv_serror_rate                0\n",
       "rerror_rate                    0\n",
       "srv_rerror_rate                0\n",
       "same_srv_rate                  0\n",
       "diff_srv_rate                  0\n",
       "srv_diff_host_rate             0\n",
       "dst_host_count                 0\n",
       "dst_host_srv_count             0\n",
       "dst_host_same_srv_rate         0\n",
       "dst_host_diff_srv_rate         0\n",
       "dst_host_same_src_port_rate    0\n",
       "dst_host_srv_diff_host_rate    0\n",
       "dst_host_serror_rate           0\n",
       "dst_host_srv_serror_rate       0\n",
       "dst_host_rerror_rate           0\n",
       "dst_host_srv_rerror_rate       0\n",
       "attack                         0\n",
       "level                          0\n",
       "dtype: int64"
      ]
     },
     "execution_count": 166,
     "metadata": {},
     "output_type": "execute_result"
    }
   ],
   "source": [
    "train_data.isnull().sum()"
   ]
  },
  {
   "cell_type": "code",
   "execution_count": 167,
   "id": "e19bdee7",
   "metadata": {},
   "outputs": [
    {
     "data": {
      "text/plain": [
       "duration                       0\n",
       "protocol_type                  0\n",
       "service                        0\n",
       "flag                           0\n",
       "src_bytes                      0\n",
       "dst_bytes                      0\n",
       "land                           0\n",
       "wrong_fragment                 0\n",
       "urgent                         0\n",
       "hot                            0\n",
       "num_failed_logins              0\n",
       "logged_in                      0\n",
       "num_compromised                0\n",
       "root_shell                     0\n",
       "su_attempted                   0\n",
       "num_root                       0\n",
       "num_file_creations             0\n",
       "num_shells                     0\n",
       "num_access_files               0\n",
       "num_outbound_cmds              0\n",
       "is_host_login                  0\n",
       "is_guest_login                 0\n",
       "count                          0\n",
       "srv_count                      0\n",
       "serror_rate                    0\n",
       "srv_serror_rate                0\n",
       "rerror_rate                    0\n",
       "srv_rerror_rate                0\n",
       "same_srv_rate                  0\n",
       "diff_srv_rate                  0\n",
       "srv_diff_host_rate             0\n",
       "dst_host_count                 0\n",
       "dst_host_srv_count             0\n",
       "dst_host_same_srv_rate         0\n",
       "dst_host_diff_srv_rate         0\n",
       "dst_host_same_src_port_rate    0\n",
       "dst_host_srv_diff_host_rate    0\n",
       "dst_host_serror_rate           0\n",
       "dst_host_srv_serror_rate       0\n",
       "dst_host_rerror_rate           0\n",
       "dst_host_srv_rerror_rate       0\n",
       "attack                         0\n",
       "level                          0\n",
       "dtype: int64"
      ]
     },
     "execution_count": 167,
     "metadata": {},
     "output_type": "execute_result"
    }
   ],
   "source": [
    "test_data.isnull().sum()"
   ]
  },
  {
   "cell_type": "code",
   "execution_count": 168,
   "id": "c754a36d",
   "metadata": {},
   "outputs": [
    {
     "data": {
      "text/html": [
       "<div>\n",
       "<style scoped>\n",
       "    .dataframe tbody tr th:only-of-type {\n",
       "        vertical-align: middle;\n",
       "    }\n",
       "\n",
       "    .dataframe tbody tr th {\n",
       "        vertical-align: top;\n",
       "    }\n",
       "\n",
       "    .dataframe thead th {\n",
       "        text-align: right;\n",
       "    }\n",
       "</style>\n",
       "<table border=\"1\" class=\"dataframe\">\n",
       "  <thead>\n",
       "    <tr style=\"text-align: right;\">\n",
       "      <th></th>\n",
       "      <th>duration</th>\n",
       "      <th>protocol_type</th>\n",
       "      <th>service</th>\n",
       "      <th>flag</th>\n",
       "      <th>src_bytes</th>\n",
       "      <th>dst_bytes</th>\n",
       "      <th>land</th>\n",
       "      <th>wrong_fragment</th>\n",
       "      <th>urgent</th>\n",
       "      <th>hot</th>\n",
       "      <th>...</th>\n",
       "      <th>dst_host_same_srv_rate</th>\n",
       "      <th>dst_host_diff_srv_rate</th>\n",
       "      <th>dst_host_same_src_port_rate</th>\n",
       "      <th>dst_host_srv_diff_host_rate</th>\n",
       "      <th>dst_host_serror_rate</th>\n",
       "      <th>dst_host_srv_serror_rate</th>\n",
       "      <th>dst_host_rerror_rate</th>\n",
       "      <th>dst_host_srv_rerror_rate</th>\n",
       "      <th>attack</th>\n",
       "      <th>level</th>\n",
       "    </tr>\n",
       "  </thead>\n",
       "  <tbody>\n",
       "  </tbody>\n",
       "</table>\n",
       "<p>0 rows × 43 columns</p>\n",
       "</div>"
      ],
      "text/plain": [
       "Empty DataFrame\n",
       "Columns: [duration, protocol_type, service, flag, src_bytes, dst_bytes, land, wrong_fragment, urgent, hot, num_failed_logins, logged_in, num_compromised, root_shell, su_attempted, num_root, num_file_creations, num_shells, num_access_files, num_outbound_cmds, is_host_login, is_guest_login, count, srv_count, serror_rate, srv_serror_rate, rerror_rate, srv_rerror_rate, same_srv_rate, diff_srv_rate, srv_diff_host_rate, dst_host_count, dst_host_srv_count, dst_host_same_srv_rate, dst_host_diff_srv_rate, dst_host_same_src_port_rate, dst_host_srv_diff_host_rate, dst_host_serror_rate, dst_host_srv_serror_rate, dst_host_rerror_rate, dst_host_srv_rerror_rate, attack, level]\n",
       "Index: []\n",
       "\n",
       "[0 rows x 43 columns]"
      ]
     },
     "execution_count": 168,
     "metadata": {},
     "output_type": "execute_result"
    }
   ],
   "source": [
    "train_data[train_data.duplicated()]"
   ]
  },
  {
   "cell_type": "code",
   "execution_count": 169,
   "id": "f31e586d",
   "metadata": {},
   "outputs": [
    {
     "name": "stderr",
     "output_type": "stream",
     "text": [
      "<ipython-input-169-54baf4b05fd4>:1: UserWarning: Boolean Series key will be reindexed to match DataFrame index.\n",
      "  test_data[train_data.duplicated()]\n"
     ]
    },
    {
     "data": {
      "text/html": [
       "<div>\n",
       "<style scoped>\n",
       "    .dataframe tbody tr th:only-of-type {\n",
       "        vertical-align: middle;\n",
       "    }\n",
       "\n",
       "    .dataframe tbody tr th {\n",
       "        vertical-align: top;\n",
       "    }\n",
       "\n",
       "    .dataframe thead th {\n",
       "        text-align: right;\n",
       "    }\n",
       "</style>\n",
       "<table border=\"1\" class=\"dataframe\">\n",
       "  <thead>\n",
       "    <tr style=\"text-align: right;\">\n",
       "      <th></th>\n",
       "      <th>duration</th>\n",
       "      <th>protocol_type</th>\n",
       "      <th>service</th>\n",
       "      <th>flag</th>\n",
       "      <th>src_bytes</th>\n",
       "      <th>dst_bytes</th>\n",
       "      <th>land</th>\n",
       "      <th>wrong_fragment</th>\n",
       "      <th>urgent</th>\n",
       "      <th>hot</th>\n",
       "      <th>...</th>\n",
       "      <th>dst_host_same_srv_rate</th>\n",
       "      <th>dst_host_diff_srv_rate</th>\n",
       "      <th>dst_host_same_src_port_rate</th>\n",
       "      <th>dst_host_srv_diff_host_rate</th>\n",
       "      <th>dst_host_serror_rate</th>\n",
       "      <th>dst_host_srv_serror_rate</th>\n",
       "      <th>dst_host_rerror_rate</th>\n",
       "      <th>dst_host_srv_rerror_rate</th>\n",
       "      <th>attack</th>\n",
       "      <th>level</th>\n",
       "    </tr>\n",
       "  </thead>\n",
       "  <tbody>\n",
       "  </tbody>\n",
       "</table>\n",
       "<p>0 rows × 43 columns</p>\n",
       "</div>"
      ],
      "text/plain": [
       "Empty DataFrame\n",
       "Columns: [duration, protocol_type, service, flag, src_bytes, dst_bytes, land, wrong_fragment, urgent, hot, num_failed_logins, logged_in, num_compromised, root_shell, su_attempted, num_root, num_file_creations, num_shells, num_access_files, num_outbound_cmds, is_host_login, is_guest_login, count, srv_count, serror_rate, srv_serror_rate, rerror_rate, srv_rerror_rate, same_srv_rate, diff_srv_rate, srv_diff_host_rate, dst_host_count, dst_host_srv_count, dst_host_same_srv_rate, dst_host_diff_srv_rate, dst_host_same_src_port_rate, dst_host_srv_diff_host_rate, dst_host_serror_rate, dst_host_srv_serror_rate, dst_host_rerror_rate, dst_host_srv_rerror_rate, attack, level]\n",
       "Index: []\n",
       "\n",
       "[0 rows x 43 columns]"
      ]
     },
     "execution_count": 169,
     "metadata": {},
     "output_type": "execute_result"
    }
   ],
   "source": [
    "test_data[train_data.duplicated()]"
   ]
  },
  {
   "cell_type": "code",
   "execution_count": 10,
   "id": "1dd0a6aa",
   "metadata": {},
   "outputs": [],
   "source": [
    "train_data =train_data.drop(['service'] ,axis = 1)\n",
    "test_data =test_data.drop(['service'] ,axis = 1)"
   ]
  },
  {
   "cell_type": "code",
   "execution_count": 11,
   "id": "238ee9d3",
   "metadata": {},
   "outputs": [],
   "source": [
    "query1 = \"SELECT * FROM train_data  t WHERE attack  in ('neptune', 'normal', 'guess_passwd', 'smurf', 'satan', 'buffer_overflow', 'back', 'warezmaster', 'pod', 'nmap', 'ipsweep','portsweep', 'multihop', 'loadmodule', 'teardrop', 'rootkit','perl', 'land', 'ftp_write', 'imap', 'phf')\"\n",
    "train_data = sqldf(query1)"
   ]
  },
  {
   "cell_type": "code",
   "execution_count": 12,
   "id": "73f82991",
   "metadata": {},
   "outputs": [],
   "source": [
    "query2 = \"SELECT * FROM test_data t WHERE attack  in ('neptune', 'normal', 'guess_passwd', 'smurf', 'satan','buffer_overflow', 'back', 'warezmaster', 'pod', 'nmap', 'ipsweep', 'portsweep', 'multihop', 'loadmodule', 'teardrop', 'rootkit','perl', 'land', 'ftp_write', 'imap', 'phf')\"\n",
    "test_data = sqldf(query2)"
   ]
  },
  {
   "cell_type": "code",
   "execution_count": 9,
   "id": "051e5ccf",
   "metadata": {},
   "outputs": [
    {
     "data": {
      "text/plain": [
       "21"
      ]
     },
     "execution_count": 9,
     "metadata": {},
     "output_type": "execute_result"
    }
   ],
   "source": [
    "len(train_data.attack.unique())"
   ]
  },
  {
   "cell_type": "code",
   "execution_count": 10,
   "id": "4e629088",
   "metadata": {},
   "outputs": [
    {
     "data": {
      "text/plain": [
       "21"
      ]
     },
     "execution_count": 10,
     "metadata": {},
     "output_type": "execute_result"
    }
   ],
   "source": [
    "len(test_data.attack.unique())"
   ]
  },
  {
   "cell_type": "code",
   "execution_count": 13,
   "id": "310333dd",
   "metadata": {},
   "outputs": [],
   "source": [
    "train_data = pd.get_dummies(train_data,columns=['protocol_type','flag'],prefix=\"\",prefix_sep=\"\")\n",
    "test_data = pd.get_dummies(test_data,columns=['protocol_type','flag'],prefix=\"\",prefix_sep=\"\")"
   ]
  },
  {
   "cell_type": "code",
   "execution_count": 14,
   "id": "fe344989",
   "metadata": {},
   "outputs": [
    {
     "data": {
      "text/plain": [
       "normal             67342\n",
       "neptune            41214\n",
       "satan               3633\n",
       "ipsweep             3599\n",
       "portsweep           2931\n",
       "smurf               2646\n",
       "nmap                1493\n",
       "back                 956\n",
       "teardrop             892\n",
       "pod                  201\n",
       "guess_passwd          53\n",
       "buffer_overflow       30\n",
       "warezmaster           20\n",
       "land                  18\n",
       "imap                  11\n",
       "rootkit               10\n",
       "loadmodule             9\n",
       "ftp_write              8\n",
       "multihop               7\n",
       "phf                    4\n",
       "perl                   3\n",
       "Name: attack, dtype: int64"
      ]
     },
     "execution_count": 14,
     "metadata": {},
     "output_type": "execute_result"
    }
   ],
   "source": [
    "train_data['attack'].value_counts()\n"
   ]
  },
  {
   "cell_type": "code",
   "execution_count": 15,
   "id": "331b82c7",
   "metadata": {},
   "outputs": [
    {
     "data": {
      "text/plain": [
       "normal             9711\n",
       "neptune            4656\n",
       "guess_passwd       1231\n",
       "warezmaster         944\n",
       "satan               735\n",
       "smurf               665\n",
       "back                359\n",
       "portsweep           157\n",
       "ipsweep             141\n",
       "nmap                 73\n",
       "pod                  41\n",
       "buffer_overflow      20\n",
       "multihop             18\n",
       "rootkit              13\n",
       "teardrop             12\n",
       "land                  7\n",
       "ftp_write             3\n",
       "loadmodule            2\n",
       "phf                   2\n",
       "perl                  2\n",
       "imap                  1\n",
       "Name: attack, dtype: int64"
      ]
     },
     "execution_count": 15,
     "metadata": {},
     "output_type": "execute_result"
    }
   ],
   "source": [
    "test_data['attack'].value_counts()"
   ]
  },
  {
   "cell_type": "code",
   "execution_count": 16,
   "id": "98360349",
   "metadata": {},
   "outputs": [],
   "source": [
    "from sklearn.preprocessing import label_binarize\n"
   ]
  },
  {
   "cell_type": "code",
   "execution_count": 17,
   "id": "d8119221",
   "metadata": {},
   "outputs": [],
   "source": [
    "# from sklearn.preprocessing import LabelEncoder\n",
    "\n",
    "# label_encoder = LabelEncoder()\n",
    "# train_data['attack_encode'] = label_encoder.fit_transform( train_data['attack'])\n",
    "# test_data['attack_encode'] = label_encoder.fit_transform( test_data['attack'])\n"
   ]
  },
  {
   "cell_type": "code",
   "execution_count": 18,
   "id": "77bc0eb9",
   "metadata": {},
   "outputs": [],
   "source": [
    "xtrain = train_data.drop(['attack','level'] ,axis = 1)\n",
    "ytrain = train_data['attack']\n",
    "\n",
    "xtest = test_data.drop(['attack','level'] ,axis = 1)\n",
    "ytest = test_data['attack']"
   ]
  },
  {
   "cell_type": "markdown",
   "id": "c7fcdaec",
   "metadata": {},
   "source": []
  },
  {
   "cell_type": "markdown",
   "id": "c57734ec",
   "metadata": {},
   "source": [
    "# Data Scaling Using Min Max Scaling"
   ]
  },
  {
   "cell_type": "code",
   "execution_count": 20,
   "id": "d9b82998",
   "metadata": {},
   "outputs": [],
   "source": [
    "import numpy as np\n",
    "from sklearn.preprocessing import MinMaxScaler\n",
    "minmax_scaler = MinMaxScaler()"
   ]
  },
  {
   "cell_type": "code",
   "execution_count": 21,
   "id": "94a40baf",
   "metadata": {},
   "outputs": [],
   "source": [
    "X_train_minmax = minmax_scaler.fit_transform(xtrain)\n",
    "X_test_minmax = minmax_scaler.fit_transform(xtest)\n"
   ]
  },
  {
   "cell_type": "markdown",
   "id": "5c8ad10e",
   "metadata": {},
   "source": [
    "# Decision Tree"
   ]
  },
  {
   "cell_type": "code",
   "execution_count": 20,
   "id": "2e77d545",
   "metadata": {},
   "outputs": [],
   "source": [
    "from sklearn.tree  import DecisionTreeClassifier\n",
    "DT =DecisionTreeClassifier()"
   ]
  },
  {
   "cell_type": "code",
   "execution_count": 25,
   "id": "1307363e",
   "metadata": {},
   "outputs": [
    {
     "name": "stdout",
     "output_type": "stream",
     "text": [
      "Best Hyperparameters: {'min_samples_split': 5, 'min_samples_leaf': 2, 'max_features': 8, 'max_depth': 30}\n"
     ]
    }
   ],
   "source": [
    "param_grid = {\n",
    "    'max_features': [1,3,5,8],\n",
    "    'max_depth': [2, 5, 10, 15,30],\n",
    "    'min_samples_split': [2, 5, 10,13],\n",
    "    'min_samples_leaf': [1, 2, 4,6]\n",
    "}\n",
    "grid_search = RandomizedSearchCV(estimator=DT, param_distributions=param_grid, cv=3)\n",
    "grid_search.fit(X_train_minmax, ytrain)\n",
    "\n",
    "# Get the best hyperparameters\n",
    "best_params = grid_search.best_params_\n",
    "print(\"Best Hyperparameters:\", best_params)"
   ]
  },
  {
   "cell_type": "code",
   "execution_count": 26,
   "id": "b45f8022",
   "metadata": {},
   "outputs": [
    {
     "data": {
      "text/plain": [
       "DecisionTreeClassifier(max_depth=30, max_features=8, min_samples_leaf=2,\n",
       "                       min_samples_split=5)"
      ]
     },
     "execution_count": 26,
     "metadata": {},
     "output_type": "execute_result"
    }
   ],
   "source": [
    "best_model = grid_search.best_estimator_\n",
    "best_model"
   ]
  },
  {
   "cell_type": "code",
   "execution_count": 27,
   "id": "9a0f9560",
   "metadata": {},
   "outputs": [
    {
     "data": {
      "text/plain": [
       "0.9972657499200511"
      ]
     },
     "execution_count": 27,
     "metadata": {},
     "output_type": "execute_result"
    }
   ],
   "source": [
    "best_model.score(X_train_minmax, ytrain)"
   ]
  },
  {
   "cell_type": "code",
   "execution_count": 28,
   "id": "9c543734",
   "metadata": {},
   "outputs": [
    {
     "data": {
      "text/plain": [
       "0.8419624328207311"
      ]
     },
     "execution_count": 28,
     "metadata": {},
     "output_type": "execute_result"
    }
   ],
   "source": [
    "best_model.score(X_test_minmax, ytest)"
   ]
  },
  {
   "cell_type": "code",
   "execution_count": 29,
   "id": "ff2d8105",
   "metadata": {},
   "outputs": [],
   "source": [
    "pred_y = best_model.predict(X_test_minmax)"
   ]
  },
  {
   "cell_type": "code",
   "execution_count": 30,
   "id": "02b778ab",
   "metadata": {},
   "outputs": [
    {
     "name": "stderr",
     "output_type": "stream",
     "text": [
      "C:\\Users\\Hamza\\anaconda3\\lib\\site-packages\\sklearn\\metrics\\_classification.py:1245: UndefinedMetricWarning: Precision and F-score are ill-defined and being set to 0.0 in labels with no predicted samples. Use `zero_division` parameter to control this behavior.\n",
      "  _warn_prf(average, modifier, msg_start, len(result))\n",
      "C:\\Users\\Hamza\\anaconda3\\lib\\site-packages\\sklearn\\metrics\\_classification.py:1245: UndefinedMetricWarning: Precision and F-score are ill-defined and being set to 0.0 in labels with no predicted samples. Use `zero_division` parameter to control this behavior.\n",
      "  _warn_prf(average, modifier, msg_start, len(result))\n"
     ]
    },
    {
     "name": "stdout",
     "output_type": "stream",
     "text": [
      "                 precision    recall  f1-score   support\n",
      "\n",
      "           back       0.98      0.60      0.75       359\n",
      "buffer_overflow       0.00      0.00      0.00        20\n",
      "      ftp_write       0.00      0.00      0.00         3\n",
      "   guess_passwd       1.00      0.01      0.01      1231\n",
      "           imap       0.00      0.00      0.00         1\n",
      "        ipsweep       0.70      0.31      0.43       141\n",
      "           land       1.00      0.57      0.73         7\n",
      "     loadmodule       0.00      0.00      0.00         2\n",
      "       multihop       0.00      0.00      0.00        18\n",
      "        neptune       1.00      0.97      0.98      4656\n",
      "           nmap       0.94      1.00      0.97        73\n",
      "         normal       0.80      0.97      0.87      9711\n",
      "           perl       0.00      0.00      0.00         2\n",
      "            phf       1.00      0.50      0.67         2\n",
      "            pod       0.24      0.88      0.38        41\n",
      "      portsweep       0.70      0.93      0.80       157\n",
      "        rootkit       0.00      0.00      0.00        13\n",
      "          satan       0.74      0.98      0.84       735\n",
      "          smurf       0.92      1.00      0.96       665\n",
      "       teardrop       0.21      0.83      0.34        12\n",
      "    warezmaster       0.08      0.00      0.00       944\n",
      "\n",
      "       accuracy                           0.84     18793\n",
      "      macro avg       0.49      0.45      0.42     18793\n",
      "   weighted avg       0.83      0.84      0.79     18793\n",
      "\n"
     ]
    },
    {
     "name": "stderr",
     "output_type": "stream",
     "text": [
      "C:\\Users\\Hamza\\anaconda3\\lib\\site-packages\\sklearn\\metrics\\_classification.py:1245: UndefinedMetricWarning: Precision and F-score are ill-defined and being set to 0.0 in labels with no predicted samples. Use `zero_division` parameter to control this behavior.\n",
      "  _warn_prf(average, modifier, msg_start, len(result))\n"
     ]
    }
   ],
   "source": [
    "from sklearn.metrics import classification_report\n",
    "report = classification_report(ytest, pred_y)\n",
    "print(report)"
   ]
  },
  {
   "cell_type": "markdown",
   "id": "711cb794",
   "metadata": {},
   "source": [
    "# Random Forest"
   ]
  },
  {
   "cell_type": "code",
   "execution_count": 38,
   "id": "dbf2f8c5",
   "metadata": {},
   "outputs": [],
   "source": [
    "from sklearn.ensemble import RandomForestClassifier\n",
    "rf_model = RandomForestClassifier( n_estimators=10, min_samples_split=3,\n",
    "    min_samples_leaf=3)\n",
    "from scipy.stats import randint\n"
   ]
  },
  {
   "cell_type": "code",
   "execution_count": 47,
   "id": "272e7b88",
   "metadata": {},
   "outputs": [
    {
     "data": {
      "text/plain": [
       "0.9977854173329069"
      ]
     },
     "execution_count": 47,
     "metadata": {},
     "output_type": "execute_result"
    }
   ],
   "source": [
    "\n",
    "rf_model.score(X_train_minmax, ytrain)"
   ]
  },
  {
   "cell_type": "code",
   "execution_count": 48,
   "id": "79b9fe03",
   "metadata": {},
   "outputs": [
    {
     "data": {
      "text/plain": [
       "0.8523918480285213"
      ]
     },
     "execution_count": 48,
     "metadata": {},
     "output_type": "execute_result"
    }
   ],
   "source": [
    "rf_model.score(X_test_minmax, ytest)"
   ]
  },
  {
   "cell_type": "code",
   "execution_count": 49,
   "id": "cff9538d",
   "metadata": {},
   "outputs": [],
   "source": [
    "pred_y = rf_model.predict(X_test_minmax)"
   ]
  },
  {
   "cell_type": "code",
   "execution_count": 50,
   "id": "9d41cba1",
   "metadata": {},
   "outputs": [
    {
     "name": "stderr",
     "output_type": "stream",
     "text": [
      "C:\\Users\\Hamza\\anaconda3\\lib\\site-packages\\sklearn\\metrics\\_classification.py:1245: UndefinedMetricWarning: Precision and F-score are ill-defined and being set to 0.0 in labels with no predicted samples. Use `zero_division` parameter to control this behavior.\n",
      "  _warn_prf(average, modifier, msg_start, len(result))\n",
      "C:\\Users\\Hamza\\anaconda3\\lib\\site-packages\\sklearn\\metrics\\_classification.py:1245: UndefinedMetricWarning: Precision and F-score are ill-defined and being set to 0.0 in labels with no predicted samples. Use `zero_division` parameter to control this behavior.\n",
      "  _warn_prf(average, modifier, msg_start, len(result))\n"
     ]
    },
    {
     "name": "stdout",
     "output_type": "stream",
     "text": [
      "                 precision    recall  f1-score   support\n",
      "\n",
      "           back       0.98      0.88      0.93       359\n",
      "buffer_overflow       0.00      0.00      0.00        20\n",
      "      ftp_write       0.00      0.00      0.00         3\n",
      "   guess_passwd       0.00      0.00      0.00      1231\n",
      "           imap       0.00      0.00      0.00         1\n",
      "        ipsweep       0.98      0.31      0.47       141\n",
      "           land       1.00      0.29      0.44         7\n",
      "     loadmodule       0.00      0.00      0.00         2\n",
      "       multihop       0.00      0.00      0.00        18\n",
      "        neptune       1.00      0.98      0.99      4656\n",
      "           nmap       1.00      1.00      1.00        73\n",
      "         normal       0.80      0.97      0.88      9711\n",
      "           perl       0.00      0.00      0.00         2\n",
      "            phf       1.00      0.50      0.67         2\n",
      "            pod       0.25      0.93      0.39        41\n",
      "      portsweep       0.62      0.95      0.75       157\n",
      "        rootkit       0.00      0.00      0.00        13\n",
      "          satan       0.82      0.97      0.89       735\n",
      "          smurf       0.96      1.00      0.98       665\n",
      "       teardrop       0.24      1.00      0.39        12\n",
      "    warezmaster       1.00      0.00      0.00       944\n",
      "\n",
      "       accuracy                           0.85     18793\n",
      "      macro avg       0.51      0.47      0.42     18793\n",
      "   weighted avg       0.81      0.85      0.80     18793\n",
      "\n"
     ]
    },
    {
     "name": "stderr",
     "output_type": "stream",
     "text": [
      "C:\\Users\\Hamza\\anaconda3\\lib\\site-packages\\sklearn\\metrics\\_classification.py:1245: UndefinedMetricWarning: Precision and F-score are ill-defined and being set to 0.0 in labels with no predicted samples. Use `zero_division` parameter to control this behavior.\n",
      "  _warn_prf(average, modifier, msg_start, len(result))\n"
     ]
    }
   ],
   "source": [
    "from sklearn.metrics import classification_report\n",
    "report = classification_report(ytest, pred_y)\n",
    "print(report)"
   ]
  },
  {
   "cell_type": "markdown",
   "id": "648db52d",
   "metadata": {},
   "source": [
    "# Support Vector"
   ]
  },
  {
   "cell_type": "code",
   "execution_count": 51,
   "id": "7cb12d7f",
   "metadata": {},
   "outputs": [
    {
     "data": {
      "text/plain": [
       "0.9861448672849377"
      ]
     },
     "execution_count": 51,
     "metadata": {},
     "output_type": "execute_result"
    }
   ],
   "source": [
    "from sklearn import svm\n",
    "from sklearn.svm import SVC\n",
    "svc = SVC(kernel='linear', C=1.0)\n",
    "svc.fit(X_train_minmax, ytrain)\n",
    "svc.score(X_train_minmax, ytrain)"
   ]
  },
  {
   "cell_type": "code",
   "execution_count": 52,
   "id": "a6d22548",
   "metadata": {},
   "outputs": [
    {
     "data": {
      "text/plain": [
       "0.8472835630287873"
      ]
     },
     "execution_count": 52,
     "metadata": {},
     "output_type": "execute_result"
    }
   ],
   "source": [
    "svc.score(X_test_minmax, ytest)"
   ]
  },
  {
   "cell_type": "code",
   "execution_count": 53,
   "id": "e1666ed3",
   "metadata": {},
   "outputs": [],
   "source": [
    "pred_y = svc.predict(X_test_minmax)"
   ]
  },
  {
   "cell_type": "code",
   "execution_count": 54,
   "id": "7b9deace",
   "metadata": {
    "scrolled": true
   },
   "outputs": [
    {
     "name": "stderr",
     "output_type": "stream",
     "text": [
      "C:\\Users\\Hamza\\anaconda3\\lib\\site-packages\\sklearn\\metrics\\_classification.py:1245: UndefinedMetricWarning: Precision and F-score are ill-defined and being set to 0.0 in labels with no predicted samples. Use `zero_division` parameter to control this behavior.\n",
      "  _warn_prf(average, modifier, msg_start, len(result))\n"
     ]
    },
    {
     "name": "stdout",
     "output_type": "stream",
     "text": [
      "                 precision    recall  f1-score   support\n",
      "\n",
      "           back       0.97      0.21      0.34       359\n",
      "buffer_overflow       0.00      0.00      0.00        20\n",
      "      ftp_write       0.00      0.00      0.00         3\n",
      "   guess_passwd       0.00      0.00      0.00      1231\n",
      "           imap       0.00      0.00      0.00         1\n",
      "        ipsweep       0.87      0.98      0.92       141\n",
      "           land       1.00      1.00      1.00         7\n",
      "     loadmodule       0.00      0.00      0.00         2\n",
      "       multihop       0.00      0.00      0.00        18\n",
      "        neptune       1.00      1.00      1.00      4656\n",
      "           nmap       0.92      1.00      0.96        73\n",
      "         normal       0.79      0.97      0.87      9711\n",
      "           perl       0.00      0.00      0.00         2\n",
      "            phf       0.00      0.00      0.00         2\n",
      "            pod       0.71      0.88      0.78        41\n",
      "      portsweep       0.67      0.91      0.77       157\n",
      "        rootkit       0.00      0.00      0.00        13\n",
      "          satan       0.84      0.93      0.88       735\n",
      "          smurf       1.00      0.99      0.99       665\n",
      "       teardrop       0.18      0.67      0.28        12\n",
      "    warezmaster       0.00      0.00      0.00       944\n",
      "\n",
      "       accuracy                           0.85     18793\n",
      "      macro avg       0.43      0.45      0.42     18793\n",
      "   weighted avg       0.76      0.85      0.79     18793\n",
      "\n"
     ]
    },
    {
     "name": "stderr",
     "output_type": "stream",
     "text": [
      "C:\\Users\\Hamza\\anaconda3\\lib\\site-packages\\sklearn\\metrics\\_classification.py:1245: UndefinedMetricWarning: Precision and F-score are ill-defined and being set to 0.0 in labels with no predicted samples. Use `zero_division` parameter to control this behavior.\n",
      "  _warn_prf(average, modifier, msg_start, len(result))\n",
      "C:\\Users\\Hamza\\anaconda3\\lib\\site-packages\\sklearn\\metrics\\_classification.py:1245: UndefinedMetricWarning: Precision and F-score are ill-defined and being set to 0.0 in labels with no predicted samples. Use `zero_division` parameter to control this behavior.\n",
      "  _warn_prf(average, modifier, msg_start, len(result))\n"
     ]
    }
   ],
   "source": [
    "from sklearn.metrics import classification_report\n",
    "report = classification_report(ytest, pred_y)\n",
    "print(report)"
   ]
  },
  {
   "cell_type": "markdown",
   "id": "c15083e0",
   "metadata": {},
   "source": [
    "# Mulit Logistic"
   ]
  },
  {
   "cell_type": "code",
   "execution_count": 113,
   "id": "e2dff19a",
   "metadata": {},
   "outputs": [],
   "source": [
    "from sklearn.linear_model import LogisticRegression\n",
    "logistic_regression_model = LogisticRegression(multi_class='multinomial', solver='lbfgs', max_iter=12, random_state=5)\n"
   ]
  },
  {
   "cell_type": "code",
   "execution_count": 114,
   "id": "0075c6f9",
   "metadata": {},
   "outputs": [
    {
     "name": "stderr",
     "output_type": "stream",
     "text": [
      "C:\\Users\\Hamza\\anaconda3\\lib\\site-packages\\sklearn\\linear_model\\_logistic.py:763: ConvergenceWarning: lbfgs failed to converge (status=1):\n",
      "STOP: TOTAL NO. of ITERATIONS REACHED LIMIT.\n",
      "\n",
      "Increase the number of iterations (max_iter) or scale the data as shown in:\n",
      "    https://scikit-learn.org/stable/modules/preprocessing.html\n",
      "Please also refer to the documentation for alternative solver options:\n",
      "    https://scikit-learn.org/stable/modules/linear_model.html#logistic-regression\n",
      "  n_iter_i = _check_optimize_result(\n"
     ]
    },
    {
     "data": {
      "text/plain": [
       "LogisticRegression(max_iter=12, multi_class='multinomial', random_state=5)"
      ]
     },
     "execution_count": 114,
     "metadata": {},
     "output_type": "execute_result"
    }
   ],
   "source": [
    "logistic_regression_model.fit(X_train_minmax, ytrain)"
   ]
  },
  {
   "cell_type": "code",
   "execution_count": 115,
   "id": "388f8c20",
   "metadata": {},
   "outputs": [
    {
     "data": {
      "text/plain": [
       "0.9584905660377359"
      ]
     },
     "execution_count": 115,
     "metadata": {},
     "output_type": "execute_result"
    }
   ],
   "source": [
    "logistic_regression_model.score(X_train_minmax, ytrain)"
   ]
  },
  {
   "cell_type": "code",
   "execution_count": 116,
   "id": "91d58fae",
   "metadata": {},
   "outputs": [
    {
     "data": {
      "text/plain": [
       "0.8332889905815996"
      ]
     },
     "execution_count": 116,
     "metadata": {},
     "output_type": "execute_result"
    }
   ],
   "source": [
    "logistic_regression_model.score(X_test_minmax, ytest)"
   ]
  },
  {
   "cell_type": "code",
   "execution_count": 117,
   "id": "9fc0b644",
   "metadata": {},
   "outputs": [],
   "source": [
    "pred_y = logistic_regression_model.predict(X_test_minmax)"
   ]
  },
  {
   "cell_type": "code",
   "execution_count": 118,
   "id": "8c36f497",
   "metadata": {},
   "outputs": [
    {
     "name": "stderr",
     "output_type": "stream",
     "text": [
      "C:\\Users\\Hamza\\anaconda3\\lib\\site-packages\\sklearn\\metrics\\_classification.py:1245: UndefinedMetricWarning: Precision and F-score are ill-defined and being set to 0.0 in labels with no predicted samples. Use `zero_division` parameter to control this behavior.\n",
      "  _warn_prf(average, modifier, msg_start, len(result))\n",
      "C:\\Users\\Hamza\\anaconda3\\lib\\site-packages\\sklearn\\metrics\\_classification.py:1245: UndefinedMetricWarning: Precision and F-score are ill-defined and being set to 0.0 in labels with no predicted samples. Use `zero_division` parameter to control this behavior.\n",
      "  _warn_prf(average, modifier, msg_start, len(result))\n"
     ]
    },
    {
     "name": "stdout",
     "output_type": "stream",
     "text": [
      "                 precision    recall  f1-score   support\n",
      "\n",
      "           back       0.00      0.00      0.00       359\n",
      "buffer_overflow       0.00      0.00      0.00        20\n",
      "      ftp_write       0.00      0.00      0.00         3\n",
      "   guess_passwd       0.00      0.00      0.00      1231\n",
      "           imap       0.00      0.00      0.00         1\n",
      "        ipsweep       0.74      0.98      0.84       141\n",
      "           land       0.00      0.00      0.00         7\n",
      "     loadmodule       0.00      0.00      0.00         2\n",
      "       multihop       0.00      0.00      0.00        18\n",
      "        neptune       1.00      1.00      1.00      4656\n",
      "           nmap       0.88      1.00      0.94        73\n",
      "         normal       0.78      0.96      0.86      9711\n",
      "           perl       0.00      0.00      0.00         2\n",
      "            phf       0.00      0.00      0.00         2\n",
      "            pod       0.00      0.00      0.00        41\n",
      "      portsweep       0.69      0.92      0.79       157\n",
      "        rootkit       0.00      0.00      0.00        13\n",
      "          satan       0.85      0.98      0.91       735\n",
      "          smurf       0.82      0.88      0.85       665\n",
      "       teardrop       0.17      0.67      0.27        12\n",
      "    warezmaster       0.00      0.00      0.00       944\n",
      "\n",
      "       accuracy                           0.83     18793\n",
      "      macro avg       0.28      0.35      0.31     18793\n",
      "   weighted avg       0.73      0.83      0.77     18793\n",
      "\n"
     ]
    },
    {
     "name": "stderr",
     "output_type": "stream",
     "text": [
      "C:\\Users\\Hamza\\anaconda3\\lib\\site-packages\\sklearn\\metrics\\_classification.py:1245: UndefinedMetricWarning: Precision and F-score are ill-defined and being set to 0.0 in labels with no predicted samples. Use `zero_division` parameter to control this behavior.\n",
      "  _warn_prf(average, modifier, msg_start, len(result))\n"
     ]
    }
   ],
   "source": [
    "from sklearn.metrics import classification_report\n",
    "report = classification_report(ytest, pred_y)\n",
    "print(report)"
   ]
  },
  {
   "cell_type": "markdown",
   "id": "4f0e9d26",
   "metadata": {},
   "source": [
    "# K Nearest Neighbour"
   ]
  },
  {
   "cell_type": "code",
   "execution_count": 131,
   "id": "690a6131",
   "metadata": {},
   "outputs": [
    {
     "data": {
      "text/plain": [
       "0.9980572433642468"
      ]
     },
     "execution_count": 131,
     "metadata": {},
     "output_type": "execute_result"
    }
   ],
   "source": [
    "from sklearn.neighbors import KNeighborsClassifier\n",
    "KNN= KNeighborsClassifier(n_neighbors=2) \n",
    "KNN.fit(X_train_minmax, ytrain)\n",
    "KNN.score(X_train_minmax, ytrain)"
   ]
  },
  {
   "cell_type": "code",
   "execution_count": 132,
   "id": "a74befdb",
   "metadata": {},
   "outputs": [
    {
     "data": {
      "text/plain": [
       "0.8400468259458309"
      ]
     },
     "execution_count": 132,
     "metadata": {},
     "output_type": "execute_result"
    }
   ],
   "source": [
    "KNN.score(X_test_minmax, ytest)"
   ]
  },
  {
   "cell_type": "code",
   "execution_count": 133,
   "id": "be562f38",
   "metadata": {},
   "outputs": [],
   "source": [
    "pred_y = KNN.predict(X_test_minmax)"
   ]
  },
  {
   "cell_type": "code",
   "execution_count": 134,
   "id": "407d71cb",
   "metadata": {},
   "outputs": [
    {
     "name": "stderr",
     "output_type": "stream",
     "text": [
      "C:\\Users\\Hamza\\anaconda3\\lib\\site-packages\\sklearn\\metrics\\_classification.py:1245: UndefinedMetricWarning: Precision and F-score are ill-defined and being set to 0.0 in labels with no predicted samples. Use `zero_division` parameter to control this behavior.\n",
      "  _warn_prf(average, modifier, msg_start, len(result))\n"
     ]
    },
    {
     "name": "stdout",
     "output_type": "stream",
     "text": [
      "                 precision    recall  f1-score   support\n",
      "\n",
      "           back       0.94      0.40      0.56       359\n",
      "buffer_overflow       0.00      0.00      0.00        20\n",
      "      ftp_write       0.00      0.00      0.00         3\n",
      "   guess_passwd       0.00      0.00      0.00      1231\n",
      "           imap       0.00      0.00      0.00         1\n",
      "        ipsweep       0.93      0.98      0.96       141\n",
      "           land       1.00      0.86      0.92         7\n",
      "     loadmodule       0.00      0.00      0.00         2\n",
      "       multihop       0.02      0.06      0.03        18\n",
      "        neptune       1.00      0.98      0.99      4656\n",
      "           nmap       0.90      1.00      0.95        73\n",
      "         normal       0.78      0.98      0.87      9711\n",
      "           perl       0.00      0.00      0.00         2\n",
      "            phf       0.33      0.50      0.40         2\n",
      "            pod       0.71      0.85      0.78        41\n",
      "      portsweep       0.57      0.94      0.71       157\n",
      "        rootkit       0.00      0.00      0.00        13\n",
      "          satan       0.81      0.64      0.72       735\n",
      "          smurf       0.99      0.99      0.99       665\n",
      "       teardrop       0.20      0.75      0.31        12\n",
      "    warezmaster       1.00      0.02      0.04       944\n",
      "\n",
      "       accuracy                           0.84     18793\n",
      "      macro avg       0.49      0.47      0.44     18793\n",
      "   weighted avg       0.80      0.84      0.79     18793\n",
      "\n"
     ]
    },
    {
     "name": "stderr",
     "output_type": "stream",
     "text": [
      "C:\\Users\\Hamza\\anaconda3\\lib\\site-packages\\sklearn\\metrics\\_classification.py:1245: UndefinedMetricWarning: Precision and F-score are ill-defined and being set to 0.0 in labels with no predicted samples. Use `zero_division` parameter to control this behavior.\n",
      "  _warn_prf(average, modifier, msg_start, len(result))\n",
      "C:\\Users\\Hamza\\anaconda3\\lib\\site-packages\\sklearn\\metrics\\_classification.py:1245: UndefinedMetricWarning: Precision and F-score are ill-defined and being set to 0.0 in labels with no predicted samples. Use `zero_division` parameter to control this behavior.\n",
      "  _warn_prf(average, modifier, msg_start, len(result))\n"
     ]
    }
   ],
   "source": [
    "from sklearn.metrics import classification_report\n",
    "report = classification_report(ytest, pred_y)\n",
    "print(report)"
   ]
  },
  {
   "cell_type": "code",
   "execution_count": null,
   "id": "57207a84",
   "metadata": {},
   "outputs": [],
   "source": []
  },
  {
   "cell_type": "markdown",
   "id": "9e95e1ee",
   "metadata": {},
   "source": [
    "# Deep Learning ANN Classifier"
   ]
  },
  {
   "cell_type": "code",
   "execution_count": 22,
   "id": "0aa85de4",
   "metadata": {},
   "outputs": [],
   "source": [
    "import numpy as np\n",
    "import tensorflow as tf\n",
    "from tensorflow import keras\n",
    "from tensorflow.keras.models import Sequential\n",
    "from tensorflow.keras.layers import Dense\n",
    "from tensorflow.keras.optimizers import Adam"
   ]
  },
  {
   "cell_type": "code",
   "execution_count": 23,
   "id": "604c285b",
   "metadata": {},
   "outputs": [],
   "source": [
    "model = Sequential()\n",
    "model.add(Dense(units=64, input_dim=X_train_minmax.shape[1], activation='relu'))\n",
    "model.add(Dense(units=32, activation='relu'))\n",
    "model.add(Dense(21, activation='softmax'))  # Number of units matches the number of classes\n"
   ]
  },
  {
   "cell_type": "code",
   "execution_count": 24,
   "id": "1cb495ef",
   "metadata": {},
   "outputs": [],
   "source": [
    "model.compile(optimizer='adam', loss='sparse_categorical_crossentropy', metrics=['accuracy'])"
   ]
  },
  {
   "cell_type": "code",
   "execution_count": 25,
   "id": "2419f9d4",
   "metadata": {},
   "outputs": [],
   "source": [
    "from sklearn.preprocessing import LabelEncoder\n",
    "label_encoder = LabelEncoder()\n",
    "\n",
    "y_encoded = label_encoder.fit_transform(ytrain)\n"
   ]
  },
  {
   "cell_type": "code",
   "execution_count": 176,
   "id": "26053f75",
   "metadata": {},
   "outputs": [
    {
     "name": "stdout",
     "output_type": "stream",
     "text": [
      "Epoch 1/100\n",
      "3518/3518 [==============================] - 6s 2ms/step - loss: 0.0039 - accuracy: 0.9986 - val_loss: 0.0955 - val_accuracy: 0.9971\n",
      "Epoch 2/100\n",
      "3518/3518 [==============================] - 6s 2ms/step - loss: 0.0045 - accuracy: 0.9985 - val_loss: 0.0880 - val_accuracy: 0.9971\n",
      "Epoch 3/100\n",
      "3518/3518 [==============================] - 6s 2ms/step - loss: 0.0040 - accuracy: 0.9987 - val_loss: 0.1069 - val_accuracy: 0.9974\n",
      "Epoch 4/100\n",
      "3518/3518 [==============================] - 7s 2ms/step - loss: 0.0052 - accuracy: 0.9985 - val_loss: 0.1042 - val_accuracy: 0.9967\n",
      "Epoch 5/100\n",
      "3518/3518 [==============================] - 7s 2ms/step - loss: 0.0042 - accuracy: 0.9986 - val_loss: 0.1020 - val_accuracy: 0.9970\n",
      "Epoch 6/100\n",
      "3518/3518 [==============================] - 5s 1ms/step - loss: 0.0044 - accuracy: 0.9986 - val_loss: 0.0973 - val_accuracy: 0.9974\n",
      "Epoch 7/100\n",
      "3518/3518 [==============================] - 5s 1ms/step - loss: 0.0055 - accuracy: 0.9986 - val_loss: 0.1002 - val_accuracy: 0.9974\n",
      "Epoch 8/100\n",
      "3518/3518 [==============================] - 5s 1ms/step - loss: 0.0039 - accuracy: 0.9986 - val_loss: 0.1036 - val_accuracy: 0.9972\n",
      "Epoch 9/100\n",
      "3518/3518 [==============================] - 5s 1ms/step - loss: 0.0045 - accuracy: 0.9985 - val_loss: 0.0839 - val_accuracy: 0.9970\n",
      "Epoch 10/100\n",
      "3518/3518 [==============================] - 5s 2ms/step - loss: 0.0041 - accuracy: 0.9986 - val_loss: 0.1011 - val_accuracy: 0.9973\n",
      "Epoch 11/100\n",
      "3518/3518 [==============================] - 5s 1ms/step - loss: 0.0055 - accuracy: 0.9984 - val_loss: 0.0884 - val_accuracy: 0.9974\n",
      "Epoch 12/100\n",
      "3518/3518 [==============================] - 5s 1ms/step - loss: 0.0046 - accuracy: 0.9986 - val_loss: 0.0828 - val_accuracy: 0.9975\n",
      "Epoch 13/100\n",
      "3518/3518 [==============================] - 5s 1ms/step - loss: 0.0044 - accuracy: 0.9986 - val_loss: 0.0941 - val_accuracy: 0.9974\n",
      "Epoch 14/100\n",
      "3518/3518 [==============================] - 6s 2ms/step - loss: 0.0049 - accuracy: 0.9985 - val_loss: 0.0773 - val_accuracy: 0.9972\n",
      "Epoch 15/100\n",
      "3518/3518 [==============================] - 5s 1ms/step - loss: 0.0044 - accuracy: 0.9987 - val_loss: 0.0756 - val_accuracy: 0.9970\n",
      "Epoch 16/100\n",
      "3518/3518 [==============================] - 5s 1ms/step - loss: 0.0042 - accuracy: 0.9986 - val_loss: 0.0786 - val_accuracy: 0.9974\n",
      "Epoch 17/100\n",
      "3518/3518 [==============================] - 5s 1ms/step - loss: 0.0048 - accuracy: 0.9986 - val_loss: 0.0906 - val_accuracy: 0.9972\n",
      "Epoch 18/100\n",
      "3518/3518 [==============================] - 6s 2ms/step - loss: 0.0051 - accuracy: 0.9985 - val_loss: 0.0902 - val_accuracy: 0.9970\n",
      "Epoch 19/100\n",
      "3518/3518 [==============================] - 6s 2ms/step - loss: 0.0038 - accuracy: 0.9986 - val_loss: 0.0885 - val_accuracy: 0.9974\n",
      "Epoch 20/100\n",
      "3518/3518 [==============================] - 6s 2ms/step - loss: 0.0046 - accuracy: 0.9985 - val_loss: 0.0858 - val_accuracy: 0.9973\n",
      "Epoch 21/100\n",
      "3518/3518 [==============================] - 5s 1ms/step - loss: 0.0039 - accuracy: 0.9986 - val_loss: 0.0949 - val_accuracy: 0.9975\n",
      "Epoch 22/100\n",
      "3518/3518 [==============================] - 5s 2ms/step - loss: 0.0042 - accuracy: 0.9986 - val_loss: 0.0824 - val_accuracy: 0.9973\n",
      "Epoch 23/100\n",
      "3518/3518 [==============================] - 5s 2ms/step - loss: 0.0042 - accuracy: 0.9986 - val_loss: 0.0840 - val_accuracy: 0.9972\n",
      "Epoch 24/100\n",
      "3518/3518 [==============================] - 5s 2ms/step - loss: 0.0043 - accuracy: 0.9985 - val_loss: 0.0905 - val_accuracy: 0.9976\n",
      "Epoch 25/100\n",
      "3518/3518 [==============================] - 5s 2ms/step - loss: 0.0041 - accuracy: 0.9986 - val_loss: 0.1030 - val_accuracy: 0.9970\n",
      "Epoch 26/100\n",
      "3518/3518 [==============================] - 6s 2ms/step - loss: 0.0055 - accuracy: 0.9986 - val_loss: 0.0844 - val_accuracy: 0.9972\n",
      "Epoch 27/100\n",
      "3518/3518 [==============================] - 6s 2ms/step - loss: 0.0040 - accuracy: 0.9986 - val_loss: 0.0758 - val_accuracy: 0.9973\n",
      "Epoch 28/100\n",
      "3518/3518 [==============================] - 6s 2ms/step - loss: 0.0044 - accuracy: 0.9986 - val_loss: 0.0754 - val_accuracy: 0.9968\n",
      "Epoch 29/100\n",
      "3518/3518 [==============================] - 5s 1ms/step - loss: 0.0047 - accuracy: 0.9985 - val_loss: 0.0932 - val_accuracy: 0.9974\n",
      "Epoch 30/100\n",
      "3518/3518 [==============================] - 6s 2ms/step - loss: 0.0041 - accuracy: 0.9986 - val_loss: 0.0940 - val_accuracy: 0.9971\n",
      "Epoch 31/100\n",
      "3518/3518 [==============================] - 5s 2ms/step - loss: 0.0045 - accuracy: 0.9985 - val_loss: 0.0978 - val_accuracy: 0.9974\n",
      "Epoch 32/100\n",
      "3518/3518 [==============================] - 5s 1ms/step - loss: 0.0039 - accuracy: 0.9987 - val_loss: 0.0920 - val_accuracy: 0.9970\n",
      "Epoch 33/100\n",
      "3518/3518 [==============================] - 5s 1ms/step - loss: 0.0046 - accuracy: 0.9986 - val_loss: 0.0937 - val_accuracy: 0.9974\n",
      "Epoch 34/100\n",
      "3518/3518 [==============================] - 5s 2ms/step - loss: 0.0045 - accuracy: 0.9986 - val_loss: 0.1077 - val_accuracy: 0.9969\n",
      "Epoch 35/100\n",
      "3518/3518 [==============================] - 5s 1ms/step - loss: 0.0050 - accuracy: 0.9986 - val_loss: 0.0965 - val_accuracy: 0.9972\n",
      "Epoch 36/100\n",
      "3518/3518 [==============================] - 5s 1ms/step - loss: 0.0042 - accuracy: 0.9985 - val_loss: 0.0990 - val_accuracy: 0.9975\n",
      "Epoch 37/100\n",
      "3518/3518 [==============================] - 6s 2ms/step - loss: 0.0043 - accuracy: 0.9986 - val_loss: 0.0962 - val_accuracy: 0.9972\n",
      "Epoch 38/100\n",
      "3518/3518 [==============================] - 5s 2ms/step - loss: 0.0042 - accuracy: 0.9986 - val_loss: 0.1145 - val_accuracy: 0.9970\n",
      "Epoch 39/100\n",
      "3518/3518 [==============================] - 6s 2ms/step - loss: 0.0048 - accuracy: 0.9985 - val_loss: 0.1177 - val_accuracy: 0.9974\n",
      "Epoch 40/100\n",
      "3518/3518 [==============================] - 5s 2ms/step - loss: 0.0040 - accuracy: 0.9987 - val_loss: 0.1116 - val_accuracy: 0.9971\n",
      "Epoch 41/100\n",
      "3518/3518 [==============================] - 5s 1ms/step - loss: 0.0044 - accuracy: 0.9986 - val_loss: 0.1171 - val_accuracy: 0.9973\n",
      "Epoch 42/100\n",
      "3518/3518 [==============================] - 5s 1ms/step - loss: 0.0045 - accuracy: 0.9986 - val_loss: 0.1080 - val_accuracy: 0.9972\n",
      "Epoch 43/100\n",
      "3518/3518 [==============================] - 6s 2ms/step - loss: 0.0049 - accuracy: 0.9986 - val_loss: 0.0987 - val_accuracy: 0.9973\n",
      "Epoch 44/100\n",
      "3518/3518 [==============================] - 5s 1ms/step - loss: 0.0044 - accuracy: 0.9986 - val_loss: 0.1166 - val_accuracy: 0.9971\n",
      "Epoch 45/100\n",
      "3518/3518 [==============================] - 5s 1ms/step - loss: 0.0042 - accuracy: 0.9987 - val_loss: 0.1113 - val_accuracy: 0.9970\n",
      "Epoch 46/100\n",
      "3518/3518 [==============================] - 6s 2ms/step - loss: 0.0045 - accuracy: 0.9985 - val_loss: 0.1148 - val_accuracy: 0.9974\n",
      "Epoch 47/100\n",
      "3518/3518 [==============================] - 5s 2ms/step - loss: 0.0051 - accuracy: 0.9986 - val_loss: 0.0706 - val_accuracy: 0.9973\n",
      "Epoch 48/100\n",
      "3518/3518 [==============================] - 6s 2ms/step - loss: 0.0047 - accuracy: 0.9985 - val_loss: 0.0845 - val_accuracy: 0.9970\n",
      "Epoch 49/100\n",
      "3518/3518 [==============================] - 5s 1ms/step - loss: 0.0038 - accuracy: 0.9987 - val_loss: 0.0826 - val_accuracy: 0.9974\n",
      "Epoch 50/100\n",
      "3518/3518 [==============================] - 5s 1ms/step - loss: 0.0047 - accuracy: 0.9986 - val_loss: 0.0855 - val_accuracy: 0.9970\n",
      "Epoch 51/100\n",
      "3518/3518 [==============================] - 5s 1ms/step - loss: 0.0053 - accuracy: 0.9985 - val_loss: 0.0867 - val_accuracy: 0.9970\n",
      "Epoch 52/100\n",
      "3518/3518 [==============================] - 5s 1ms/step - loss: 0.0044 - accuracy: 0.9986 - val_loss: 0.0889 - val_accuracy: 0.9971\n",
      "Epoch 53/100\n",
      "3518/3518 [==============================] - 5s 1ms/step - loss: 0.0041 - accuracy: 0.9986 - val_loss: 0.0945 - val_accuracy: 0.9971\n",
      "Epoch 54/100\n",
      "3518/3518 [==============================] - 5s 1ms/step - loss: 0.0056 - accuracy: 0.9986 - val_loss: 0.0930 - val_accuracy: 0.9970\n",
      "Epoch 55/100\n",
      "3518/3518 [==============================] - 5s 1ms/step - loss: 0.0044 - accuracy: 0.9986 - val_loss: 0.0922 - val_accuracy: 0.9973\n",
      "Epoch 56/100\n",
      "3518/3518 [==============================] - 5s 1ms/step - loss: 0.0043 - accuracy: 0.9985 - val_loss: 0.0956 - val_accuracy: 0.9967\n",
      "Epoch 57/100\n",
      "3518/3518 [==============================] - 5s 1ms/step - loss: 0.0050 - accuracy: 0.9985 - val_loss: 0.0924 - val_accuracy: 0.9972\n",
      "Epoch 58/100\n",
      "3518/3518 [==============================] - 5s 1ms/step - loss: 0.0045 - accuracy: 0.9986 - val_loss: 0.0901 - val_accuracy: 0.9972\n",
      "Epoch 59/100\n",
      "3518/3518 [==============================] - 5s 1ms/step - loss: 0.0043 - accuracy: 0.9986 - val_loss: 0.0884 - val_accuracy: 0.9974\n",
      "Epoch 60/100\n",
      "3518/3518 [==============================] - 5s 2ms/step - loss: 0.0042 - accuracy: 0.9987 - val_loss: 0.0767 - val_accuracy: 0.9972\n",
      "Epoch 61/100\n",
      "3518/3518 [==============================] - 6s 2ms/step - loss: 0.0047 - accuracy: 0.9984 - val_loss: 0.0806 - val_accuracy: 0.9974\n",
      "Epoch 62/100\n",
      "3518/3518 [==============================] - 5s 1ms/step - loss: 0.0042 - accuracy: 0.9985 - val_loss: 0.0841 - val_accuracy: 0.9968\n",
      "Epoch 63/100\n",
      "3518/3518 [==============================] - 5s 1ms/step - loss: 0.0044 - accuracy: 0.9986 - val_loss: 0.0951 - val_accuracy: 0.9970\n",
      "Epoch 64/100\n",
      "3518/3518 [==============================] - 5s 1ms/step - loss: 0.0047 - accuracy: 0.9986 - val_loss: 0.0931 - val_accuracy: 0.9970\n",
      "Epoch 65/100\n",
      "3518/3518 [==============================] - 5s 1ms/step - loss: 0.0038 - accuracy: 0.9987 - val_loss: 0.0745 - val_accuracy: 0.9970\n",
      "Epoch 66/100\n",
      "3518/3518 [==============================] - 5s 1ms/step - loss: 0.0044 - accuracy: 0.9985 - val_loss: 0.0791 - val_accuracy: 0.9972\n",
      "Epoch 67/100\n",
      "3518/3518 [==============================] - 5s 1ms/step - loss: 0.0046 - accuracy: 0.9986 - val_loss: 0.0931 - val_accuracy: 0.9970\n",
      "Epoch 68/100\n",
      "3518/3518 [==============================] - 5s 1ms/step - loss: 0.0047 - accuracy: 0.9986 - val_loss: 0.0891 - val_accuracy: 0.9971\n",
      "Epoch 69/100\n",
      "3518/3518 [==============================] - 5s 1ms/step - loss: 0.0048 - accuracy: 0.9986 - val_loss: 0.0902 - val_accuracy: 0.9974\n",
      "Epoch 70/100\n",
      "3518/3518 [==============================] - 5s 1ms/step - loss: 0.0040 - accuracy: 0.9986 - val_loss: 0.0953 - val_accuracy: 0.9968\n",
      "Epoch 71/100\n",
      "3518/3518 [==============================] - 5s 1ms/step - loss: 0.0048 - accuracy: 0.9985 - val_loss: 0.1076 - val_accuracy: 0.9970\n",
      "Epoch 72/100\n",
      "3518/3518 [==============================] - 5s 1ms/step - loss: 0.0038 - accuracy: 0.9987 - val_loss: 0.1084 - val_accuracy: 0.9972\n",
      "Epoch 73/100\n",
      "3518/3518 [==============================] - 5s 1ms/step - loss: 0.0048 - accuracy: 0.9985 - val_loss: 0.0913 - val_accuracy: 0.9972\n",
      "Epoch 74/100\n",
      "3518/3518 [==============================] - 5s 1ms/step - loss: 0.0042 - accuracy: 0.9986 - val_loss: 0.0882 - val_accuracy: 0.9971\n",
      "Epoch 75/100\n",
      "3518/3518 [==============================] - 5s 1ms/step - loss: 0.0049 - accuracy: 0.9985 - val_loss: 0.0771 - val_accuracy: 0.9974\n",
      "Epoch 76/100\n",
      "3518/3518 [==============================] - 5s 1ms/step - loss: 0.0047 - accuracy: 0.9985 - val_loss: 0.0934 - val_accuracy: 0.9970\n",
      "Epoch 77/100\n",
      "3518/3518 [==============================] - 5s 1ms/step - loss: 0.0043 - accuracy: 0.9986 - val_loss: 0.0994 - val_accuracy: 0.9973\n",
      "Epoch 78/100\n",
      "3518/3518 [==============================] - 5s 1ms/step - loss: 0.0041 - accuracy: 0.9987 - val_loss: 0.0919 - val_accuracy: 0.9974\n",
      "Epoch 79/100\n",
      "3518/3518 [==============================] - 5s 1ms/step - loss: 0.0059 - accuracy: 0.9984 - val_loss: 0.1017 - val_accuracy: 0.9967\n",
      "Epoch 80/100\n",
      "3518/3518 [==============================] - 5s 1ms/step - loss: 0.0038 - accuracy: 0.9987 - val_loss: 0.0885 - val_accuracy: 0.9972\n",
      "Epoch 81/100\n",
      "3518/3518 [==============================] - 5s 1ms/step - loss: 0.0040 - accuracy: 0.9987 - val_loss: 0.0964 - val_accuracy: 0.9972\n",
      "Epoch 82/100\n",
      "3518/3518 [==============================] - 5s 1ms/step - loss: 0.0044 - accuracy: 0.9986 - val_loss: 0.1040 - val_accuracy: 0.9974\n",
      "Epoch 83/100\n",
      "3518/3518 [==============================] - 5s 1ms/step - loss: 0.0060 - accuracy: 0.9986 - val_loss: 0.0992 - val_accuracy: 0.9971\n",
      "Epoch 84/100\n",
      "3518/3518 [==============================] - 5s 1ms/step - loss: 0.0046 - accuracy: 0.9986 - val_loss: 0.1036 - val_accuracy: 0.9966\n",
      "Epoch 85/100\n",
      "3518/3518 [==============================] - 5s 1ms/step - loss: 0.0038 - accuracy: 0.9986 - val_loss: 0.1061 - val_accuracy: 0.9970\n",
      "Epoch 86/100\n",
      "3518/3518 [==============================] - 5s 1ms/step - loss: 0.0043 - accuracy: 0.9986 - val_loss: 0.1139 - val_accuracy: 0.9971\n",
      "Epoch 87/100\n",
      "3518/3518 [==============================] - 7s 2ms/step - loss: 0.0039 - accuracy: 0.9987 - val_loss: 0.0807 - val_accuracy: 0.9975\n",
      "Epoch 88/100\n",
      "3518/3518 [==============================] - 7s 2ms/step - loss: 0.0046 - accuracy: 0.9984 - val_loss: 0.0686 - val_accuracy: 0.9974\n",
      "Epoch 89/100\n",
      "3518/3518 [==============================] - 5s 2ms/step - loss: 0.0061 - accuracy: 0.9986 - val_loss: 0.0733 - val_accuracy: 0.9974\n",
      "Epoch 90/100\n",
      "3518/3518 [==============================] - 6s 2ms/step - loss: 0.0043 - accuracy: 0.9987 - val_loss: 0.0838 - val_accuracy: 0.9977\n",
      "Epoch 91/100\n",
      "3518/3518 [==============================] - 6s 2ms/step - loss: 0.0042 - accuracy: 0.9986 - val_loss: 0.1061 - val_accuracy: 0.9970\n",
      "Epoch 92/100\n",
      "3518/3518 [==============================] - 5s 1ms/step - loss: 0.0041 - accuracy: 0.9986 - val_loss: 0.0907 - val_accuracy: 0.9971\n",
      "Epoch 93/100\n",
      "3518/3518 [==============================] - 5s 1ms/step - loss: 0.0043 - accuracy: 0.9986 - val_loss: 0.0911 - val_accuracy: 0.9974\n",
      "Epoch 94/100\n",
      "3518/3518 [==============================] - 5s 1ms/step - loss: 0.0043 - accuracy: 0.9985 - val_loss: 0.0856 - val_accuracy: 0.9973\n",
      "Epoch 95/100\n",
      "3518/3518 [==============================] - 5s 1ms/step - loss: 0.0053 - accuracy: 0.9985 - val_loss: 0.0816 - val_accuracy: 0.9972\n",
      "Epoch 96/100\n",
      "3518/3518 [==============================] - 6s 2ms/step - loss: 0.0043 - accuracy: 0.9985 - val_loss: 0.1015 - val_accuracy: 0.9973\n",
      "Epoch 97/100\n",
      "3518/3518 [==============================] - 8s 2ms/step - loss: 0.0053 - accuracy: 0.9986 - val_loss: 0.0965 - val_accuracy: 0.9973\n",
      "Epoch 98/100\n",
      "3518/3518 [==============================] - 7s 2ms/step - loss: 0.0045 - accuracy: 0.9985 - val_loss: 0.0997 - val_accuracy: 0.9973\n",
      "Epoch 99/100\n",
      "3518/3518 [==============================] - 7s 2ms/step - loss: 0.0043 - accuracy: 0.9985 - val_loss: 0.0966 - val_accuracy: 0.9971\n",
      "Epoch 100/100\n",
      "3518/3518 [==============================] - 7s 2ms/step - loss: 0.0046 - accuracy: 0.9985 - val_loss: 0.1023 - val_accuracy: 0.9971\n"
     ]
    },
    {
     "data": {
      "text/plain": [
       "<keras.src.callbacks.History at 0x268977d60d0>"
      ]
     },
     "execution_count": 176,
     "metadata": {},
     "output_type": "execute_result"
    }
   ],
   "source": [
    "model.fit(X_train_minmax, y_encoded, epochs=100, batch_size=32, validation_split=0.1)"
   ]
  },
  {
   "cell_type": "code",
   "execution_count": 35,
   "id": "dfde6cc4",
   "metadata": {},
   "outputs": [
    {
     "data": {
      "text/plain": [
       "18793"
      ]
     },
     "execution_count": 35,
     "metadata": {},
     "output_type": "execute_result"
    }
   ],
   "source": [
    "y_encoded_test = label_encoder.fit_transform(ytest)\n",
    "len(y_encoded_test)"
   ]
  },
  {
   "cell_type": "code",
   "execution_count": 36,
   "id": "47669297",
   "metadata": {},
   "outputs": [
    {
     "name": "stdout",
     "output_type": "stream",
     "text": [
      "588/588 [==============================] - 2s 3ms/step - loss: 20.2495 - accuracy: 0.8545\n",
      "Test Loss: 20.249540328979492, Test Accuracy: 0.8544670939445496\n"
     ]
    }
   ],
   "source": [
    "loss, accuracy = model.evaluate(X_test_minmax, y_encoded_test)\n",
    "print(f'Test Loss: {loss}, Test Accuracy: {accuracy}')\n"
   ]
  },
  {
   "cell_type": "code",
   "execution_count": 54,
   "id": "f8090b2b",
   "metadata": {},
   "outputs": [
    {
     "name": "stdout",
     "output_type": "stream",
     "text": [
      "588/588 [==============================] - 1s 2ms/step\n"
     ]
    }
   ],
   "source": [
    "predictions = model.predict(X_test_minmax)"
   ]
  },
  {
   "cell_type": "code",
   "execution_count": 55,
   "id": "ac742089",
   "metadata": {},
   "outputs": [
    {
     "data": {
      "text/plain": [
       "18793"
      ]
     },
     "execution_count": 55,
     "metadata": {},
     "output_type": "execute_result"
    }
   ],
   "source": [
    "y_pred = np.argmax(predictions, axis=1)\n",
    "len(y_pred)"
   ]
  },
  {
   "cell_type": "code",
   "execution_count": 56,
   "id": "b48310b0",
   "metadata": {},
   "outputs": [],
   "source": [
    "b = {11: 'normal', 9: 'neptune', 3: 'guess_passwd', 20: 'warezmaster', 17: 'satan', 18: 'smurf', 0: 'back',\n",
    "     15: 'portsweep', 5: 'ipsweep', 10: 'nmap', 14: 'pod', 1: 'buffer_overflow', 8: 'multihop', 16: 'rootkit',\n",
    "     19: 'teardrop', 6: 'land', 2: 'ftp_write', 7: 'perl', 12: 'loadmodule', 13: 'phf', 4: 'imap'}\n",
    "sorted_b = dict(sorted(b.items()))"
   ]
  },
  {
   "cell_type": "code",
   "execution_count": 57,
   "id": "fcaa141b",
   "metadata": {},
   "outputs": [
    {
     "name": "stdout",
     "output_type": "stream",
     "text": [
      "                 precision    recall  f1-score   support\n",
      "\n",
      "           back       0.94      0.90      0.92       359\n",
      "buffer_overflow       0.17      0.05      0.08        20\n",
      "      ftp_write       0.00      0.00      0.00         3\n",
      "   guess_passwd       0.00      0.00      0.00      1231\n",
      "           imap       0.00      0.00      0.00         1\n",
      "        ipsweep       0.91      0.99      0.95       141\n",
      "           land       1.00      0.14      0.25         7\n",
      "           perl       0.00      0.00      0.00         2\n",
      "       multihop       0.00      0.00      0.00        18\n",
      "        neptune       1.00      0.99      1.00      4656\n",
      "           nmap       0.97      1.00      0.99        73\n",
      "         normal       0.81      0.97      0.88      9711\n",
      "     loadmodule       0.00      0.00      0.00         2\n",
      "            phf       0.50      0.50      0.50         2\n",
      "            pod       0.68      0.83      0.75        41\n",
      "      portsweep       0.72      0.92      0.81       157\n",
      "        rootkit       0.00      0.00      0.00        13\n",
      "          satan       0.75      0.85      0.79       735\n",
      "          smurf       0.86      0.98      0.92       665\n",
      "       teardrop       0.24      1.00      0.39        12\n",
      "    warezmaster       0.83      0.01      0.01       944\n",
      "\n",
      "       accuracy                           0.85     18793\n",
      "      macro avg       0.49      0.48      0.44     18793\n",
      "   weighted avg       0.80      0.85      0.80     18793\n",
      "\n"
     ]
    }
   ],
   "source": [
    "from sklearn.metrics import classification_report\n",
    "report = classification_report(y_encoded_test, y_pred,target_names=sorted_b.values())\n",
    "print(report)"
   ]
  },
  {
   "cell_type": "markdown",
   "id": "63e744bf",
   "metadata": {},
   "source": [
    "# accuracy table on testing dataset"
   ]
  },
  {
   "cell_type": "code",
   "execution_count": 254,
   "id": "81daf409",
   "metadata": {},
   "outputs": [
    {
     "name": "stdout",
     "output_type": "stream",
     "text": [
      "accuracy table on test dataset\n",
      "                       Model  Accuracy\n",
      "5             ANN Classifier  85.41477\n",
      "1              Random Forest  85.23910\n",
      "2  Support Vector Classifier  84.72830\n",
      "0              Decision Tree  84.19624\n",
      "4        K Nearest Neighbour  84.00400\n",
      "3        Logistic Regression  83.32800\n"
     ]
    }
   ],
   "source": [
    "import pandas as pd\n",
    "\n",
    "model_names = ['Decision Tree', 'Random Forest', 'Support Vector Classifier', 'Logistic Regression','K Nearest Neighbour','ANN Classifier']\n",
    "accuracy_values = [84.19624,85.2391,84.7283,83.328,84.004,85.41477]\n",
    "\n",
    "accuracy_df = pd.DataFrame({\n",
    "    'Model': model_names,\n",
    "    'Accuracy': accuracy_values\n",
    "})\n",
    "\n",
    "accuracy_df = accuracy_df.sort_values(by='Accuracy', ascending=False)\n",
    "\n",
    "print('accuracy table on test dataset')\n",
    "print(accuracy_df)\n"
   ]
  },
  {
   "cell_type": "markdown",
   "id": "4bf76a9f",
   "metadata": {},
   "source": [
    "# accuracy table on training dataset"
   ]
  },
  {
   "cell_type": "code",
   "execution_count": 1,
   "id": "1952b1d6",
   "metadata": {},
   "outputs": [
    {
     "name": "stdout",
     "output_type": "stream",
     "text": [
      "accuracy table on train dataset\n",
      "                       Model  Accuracy\n",
      "4        K Nearest Neighbour  99.80500\n",
      "1              Random Forest  99.77854\n",
      "0              Decision Tree  99.72650\n",
      "5             ANN Classifier  99.50000\n",
      "2  Support Vector Classifier  98.61400\n",
      "3        Logistic Regression  95.84900\n"
     ]
    }
   ],
   "source": [
    "import pandas as pd\n",
    "\n",
    "model_names = ['Decision Tree', 'Random Forest', 'Support Vector Classifier', 'Logistic Regression','K Nearest Neighbour','ANN Classifier']\n",
    "accuracy_values = [99.7265,99.77854,98.614,95.8490,99.805,99.50]\n",
    "\n",
    "accuracy_df = pd.DataFrame({\n",
    "    'Model': model_names,\n",
    "    'Accuracy': accuracy_values\n",
    "})\n",
    "\n",
    "accuracy_df = accuracy_df.sort_values(by='Accuracy', ascending=False)\n",
    "\n",
    "print('accuracy table on train dataset')\n",
    "print(accuracy_df)\n"
   ]
  },
  {
   "cell_type": "markdown",
   "id": "08e916e6",
   "metadata": {},
   "source": [
    "# Precision Plot"
   ]
  },
  {
   "cell_type": "code",
   "execution_count": 171,
   "id": "a621544f",
   "metadata": {},
   "outputs": [
    {
     "data": {
      "image/png": "[encoded data removed]",
      "text/plain": [
       "<Figure size 432x288 with 1 Axes>"
      ]
     },
     "metadata": {
      "needs_background": "light"
     },
     "output_type": "display_data"
    }
   ],
   "source": [
    "import matplotlib.pyplot as plt\n",
    "\n",
    "# Sample data\n",
    "categories = ['ANN', 'RF', 'SVC', 'DT', 'KNN', 'LR']\n",
    "pre_na = [1.00, 1.00, 1.00, 1.00, 1.00, 1.00]\n",
    "pre_satan = [0.75,0.82, 0.84 ,0.74,0.81, 0.85]\n",
    "pre_swep_at = [ 0.91,0.98, 0.87, 0.70,0.93,0.74 ]\n",
    "pre_port_swe = [0.72,0.62,0.67,0.70,0.57,0.69]\n",
    "pre_smur_att = [0.86,0.96,1.00 , 0.92,0.99,0.82 ]\n",
    "pre_nmap = [0.97,1.00,0.92,0.94,0.90 , 0.88  ]\n",
    "pre_bac_att = [0.94,0.98 ,0.97 , 0.98 ,0.94,0.00]\n",
    "pre_tear_dr_att = [ 0.24,0.24,0.18,0.21,0.20, 0.17 ]\n",
    "\n",
    "\n",
    "# Plotting the line plot\n",
    "plt.plot(categories, pre_na, label='Neptune Attack', marker='o')\n",
    "plt.plot(categories, pre_satan, label='Satan Attack', marker='o')\n",
    "plt.plot(categories, pre_swep_at, label='Ip Sweep Attack', marker='o')\n",
    "plt.plot(categories, pre_port_swe, label='Port Sweep Attack', marker='o')\n",
    "plt.plot(categories, pre_smur_att, label='Smurf Attack', marker='o')\n",
    "plt.plot(categories, pre_nmap, label='NMAP Attack', marker='o')\n",
    "plt.plot(categories, pre_bac_att, label='Back Attack', marker='o')\n",
    "plt.plot(categories, pre_tear_dr_att, label='TearDrop Attack', marker='o')\n",
    "# Adding labels and title\n",
    "plt.xlabel('Algorithm')\n",
    "plt.ylabel('Values')\n",
    "plt.title('Line Plot For Precision Each Attack')\n",
    "\n",
    "# Set y-axis limits from 0 to 1\n",
    "# plt.ylim(0, 1)\n",
    "plt.yticks([0.00, 0.10, 0.20, 0.30, 0.40, 0.50, 0.60, 0.70, 0.80, 0.90, 1.00])\n",
    "\n",
    "\n",
    "# Display legend\n",
    "# plt.legend(loc='lower center')\n",
    "plt.legend(bbox_to_anchor=(1.05, 1), loc='upper left')\n",
    "\n",
    "plt.gca().yaxis.set_major_formatter(plt.FormatStrFormatter('%.2f'))\n",
    "\n",
    "# Ensure integer ticks on the y-axis\n",
    "# plt.gca().yaxis.set_major_locator(MaxNLocator(integer=True))\n",
    "plt.tight_layout()\n",
    "# plt.savefig('line_plot_123.png', dpi=300)\n",
    "# Show the plot\n",
    "plt.show()\n",
    "\n",
    "\n",
    "\n",
    "\n",
    "\n"
   ]
  },
  {
   "cell_type": "markdown",
   "id": "c4510f67",
   "metadata": {},
   "source": [
    "# Recall Plot"
   ]
  },
  {
   "cell_type": "code",
   "execution_count": 173,
   "id": "a5abf79e",
   "metadata": {},
   "outputs": [
    {
     "data": {
      "image/png": "[encoded data removed]",
      "text/plain": [
       "<Figure size 432x288 with 1 Axes>"
      ]
     },
     "metadata": {
      "needs_background": "light"
     },
     "output_type": "display_data"
    }
   ],
   "source": [
    "import matplotlib.pyplot as plt\n",
    "\n",
    "# Sample data\n",
    "categories = ['ANN', 'RF', 'SVC', 'DT', 'KNN', 'LR']\n",
    "pre_na =  [0.99, 0.98, 1.00, 0.97,0.98,1.00]\n",
    "pre_satan = [ 0.85,0.97,0.93,0.98,0.64, 0.98]\n",
    "pre_swep_at =[0.99,0.31 ,0.98,0.31,0.98 , 0.98  ]\n",
    "pre_port_swe = [0.92 ,0.95, 0.91,0.93,0.94,0.92   ]\n",
    "pre_smur_att =  [0.98, 1.00,0.99,1.00,0.99, 0.88  ]\n",
    "pre_nmap =   [1.00,1.00,1.00,1.00 ,1.00 , 1.00]\n",
    "pre_bac_att =[0.90,0.88,0.21 ,0.60 , 0.40,0.00 ]\n",
    "pre_tear_dr_att = [1.00 ,1.00 ,0.67, 0.83 , 0.75, 0.67 ]\n",
    "\n",
    "\n",
    "# Plotting the line plot\n",
    "plt.plot(categories, pre_na, label='Neptune Attack', marker='o')\n",
    "plt.plot(categories, pre_satan, label='Satan Attack', marker='o')\n",
    "plt.plot(categories, pre_swep_at, label='Ip Sweep Attack', marker='o')\n",
    "plt.plot(categories, pre_port_swe, label='Port Sweep Attack', marker='o')\n",
    "plt.plot(categories, pre_smur_att, label='Smurf Attack', marker='o')\n",
    "plt.plot(categories, pre_nmap, label='NMAP Attack', marker='o')\n",
    "plt.plot(categories, pre_bac_att, label='Back Attack', marker='o')\n",
    "plt.plot(categories, pre_tear_dr_att, label='TearDrop Attack', marker='o')\n",
    "# Adding labels and title\n",
    "plt.xlabel('Algorithm')\n",
    "plt.ylabel('Values')\n",
    "plt.title('Line Plot For Recall Each Attack')\n",
    "\n",
    "# Set y-axis limits from 0 to 1\n",
    "# plt.ylim(0, 1)\n",
    "plt.yticks([0.00, 0.10, 0.20, 0.30, 0.40, 0.50, 0.60, 0.70, 0.80, 0.90, 1.00])\n",
    "\n",
    "\n",
    "# Display legend\n",
    "# plt.legend()\n",
    "plt.legend(bbox_to_anchor=(1.05, 1), loc='upper left')\n",
    "\n",
    "\n",
    "plt.gca().yaxis.set_major_formatter(plt.FormatStrFormatter('%.2f'))\n",
    "plt.tight_layout()\n",
    "# plt.savefig('line_plot_12345.png', dpi=300)\n",
    "# Ensure integer ticks on the y-axis\n",
    "# plt.gca().yaxis.set_major_locator(MaxNLocator(integer=True))\n",
    "\n",
    "# Show the plot\n",
    "plt.show()\n"
   ]
  },
  {
   "cell_type": "markdown",
   "id": "e51cca82",
   "metadata": {},
   "source": [
    "# F1-Score Plot"
   ]
  },
  {
   "cell_type": "code",
   "execution_count": 175,
   "id": "799be10b",
   "metadata": {},
   "outputs": [
    {
     "data": {
      "image/png": "[encoded data removed]",
      "text/plain": [
       "<Figure size 432x288 with 1 Axes>"
      ]
     },
     "metadata": {
      "needs_background": "light"
     },
     "output_type": "display_data"
    }
   ],
   "source": [
    "import matplotlib.pyplot as plt\n",
    "\n",
    "# Sample data\n",
    "categories = ['ANN', 'RF', 'SVC', 'DT', 'KNN', 'LR']\n",
    "pre_na = [1.00, 0.98, 1.00, 0.98,0.99,1.00]\n",
    "pre_satan = [0.79, 0.89,0.88 ,0.84,0.72,0.91 ]\n",
    "pre_swep_at =[0.95 ,0.47, 0.92, 0.43, 0.96,0.84  ]\n",
    "pre_port_swe =[0.81 , 0.75 , 0.77 ,0.80 ,0.71, 0.79 ]\n",
    "pre_smur_att =  [ 0.92 ,0.98,0.99 , 0.96,0.99,0.85  ]\n",
    "pre_nmap =   [ 0.99,1.00,0.96,0.97 , 0.95  ,0.94 ]\n",
    "pre_bac_att =[0.92,0.93 ,0.34 ,0.75,0.56 , 0.00 ]\n",
    "pre_tear_dr_att =[0.39, 0.39 ,0.28,  0.34 ,0.31 ,0.27]\n",
    "\n",
    "\n",
    "# Plotting the line plot\n",
    "plt.plot(categories, pre_na, label='Neptune Attack', marker='o')\n",
    "plt.plot(categories, pre_satan, label='Satan Attack', marker='o')\n",
    "plt.plot(categories, pre_swep_at, label='Ip Sweep Attack', marker='o')\n",
    "plt.plot(categories, pre_port_swe, label='Port Sweep Attack', marker='o')\n",
    "plt.plot(categories, pre_smur_att, label='Smurf Attack', marker='o')\n",
    "plt.plot(categories, pre_nmap, label='NMAP Attack', marker='o')\n",
    "plt.plot(categories, pre_bac_att, label='Back Attack', marker='o')\n",
    "plt.plot(categories, pre_tear_dr_att, label='TearDrop Attack', marker='o')\n",
    "# Adding labels and title\n",
    "plt.xlabel('Algorithm')\n",
    "plt.ylabel('Values')\n",
    "plt.title('Line Plot For F1-Score Each Attack')\n",
    "\n",
    "# Set y-axis limits from 0 to 1\n",
    "# plt.ylim(0, 1)\n",
    "plt.yticks([0.00, 0.10, 0.20, 0.30, 0.40, 0.50, 0.60, 0.70, 0.80, 0.90, 1.00])\n",
    "\n",
    "\n",
    "# Display legend\n",
    "# plt.legend()\n",
    "plt.legend(bbox_to_anchor=(1.05, 1), loc='upper left')\n",
    "\n",
    "\n",
    "plt.gca().yaxis.set_major_formatter(plt.FormatStrFormatter('%.2f'))\n",
    "plt.tight_layout()\n",
    "# plt.savefig('line_plot_fi.png', dpi=300)\n",
    "# Ensure integer ticks on the y-axis\n",
    "# plt.gca().yaxis.set_major_locator(MaxNLocator(integer=True))\n",
    "\n",
    "# Show the plot\n",
    "plt.show()\n"
   ]
  },
  {
   "cell_type": "code",
   "execution_count": null,
   "id": "9b486b6a",
   "metadata": {},
   "outputs": [],
   "source": []
  }
 ],
 "metadata": {
  "kernelspec": {
   "display_name": "Python 3",
   "language": "python",
   "name": "python3"
  },
  "language_info": {
   "codemirror_mode": {
    "name": "ipython",
    "version": 3
   },
   "file_extension": ".py",
   "mimetype": "text/x-python",
   "name": "python",
   "nbconvert_exporter": "python",
   "pygments_lexer": "ipython3",
   "version": "3.8.8"
  }
 },
 "nbformat": 4,
 "nbformat_minor": 5
}
